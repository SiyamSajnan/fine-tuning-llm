{
  "cells": [
    {
      "cell_type": "markdown",
      "source": [
        "This notebook performs experiments on studying the impact of different loss functions on training and evaluating different language models. The models are trained on the Natural Language Inference (NLI) dataset, and tested on the Semantic Textual Similarity (STS) and SentEval (classification) datasets as transfer tasks.\n",
        "\n",
        "- For this demo, the **all-mpnet-base-v2 (SBERT)** model is trained on NLI dataset using all three loss functions **CoSENT**, **In-Batch Negatives** and **Angle**, and tested on **STS-13** dataset for Spearman's Rank and **Customer Reviews (CR)** dataset from SentEval for classification accuracy.\n",
        "\n",
        "- The loss functions CoSENT, In-Batch Negatives and Angle are taken from <a href=\"https://github.com/SeanLee97/AnglE\">AnglE</a>, and the Cosine Similarity Loss is modified from <a href=\"https://sbert.net/docs/package_reference/sentence_transformer/losses.html#cosinesimilarityloss\">SBERT</a>."
      ],
      "metadata": {
        "id": "AVJB0UvW4O4y"
      }
    },
    {
      "cell_type": "markdown",
      "metadata": {
        "id": "wsjXSJw96Y7K"
      },
      "source": [
        "## **Colab Links**\n",
        "\n",
        "1. <a href=\"https://colab.research.google.com/drive/1l7TpcEIr8D0zIOpqILFrxRL5U1QgRDwE\">Dataset-Specific Fine-Tuning BERT</a> - This notebook fine-tunes BERT-based language models by training and testing on the generated train and test splits of the individual datasets of STS and SentEval.\n",
        "2. <a href=\"https://colab.research.google.com/drive/1pdbY_mck2PjbneenGdK8PVjQiaUDVCzO\">Plot Builder</a> - The results generated for STS and SentEval at the bottom of this notebook, will be required to be put inside the **Plot Builder** Colab notebook for it to work. Also, all the combinations of Models, Datasets and Loss Functions will be required to plot correctly. **(In Progress)**\n",
        "3. <a href=\"https://colab.research.google.com/drive/1KPLWxoCDb77w9TUlHeQ2sME6ikh2Fe58\">Training Llama 2 on NLI</a> - This notebook trains Llama 2 with LoRA on NLI dataset and tests on STS datasets. **(In Progress)**\n",
        "4. <a href=\"https://colab.research.google.com/drive/1jLi2X_fLccrmFXP643I4gOfrQ3Nw_5m4\">Fine-Tuning Llama 2 using LoRA (Runnable on STS13 dataset only)</a> - This notebook trains Llama 2 with LoRA on the generated train set of STS-13 dataset and tests Spearman's Rank Correlation Coefficient on the generated test set. **(In Progress)**"
      ]
    },
    {
      "cell_type": "markdown",
      "metadata": {
        "id": "8HauEi1vUr_l"
      },
      "source": [
        "## Library Installations"
      ]
    },
    {
      "cell_type": "code",
      "execution_count": 1,
      "metadata": {
        "colab": {
          "base_uri": "https://localhost:8080/"
        },
        "id": "gNFewUrtUaFg",
        "outputId": "2df763a9-0487-460f-e943-d383b8f35f4f"
      },
      "outputs": [
        {
          "output_type": "stream",
          "name": "stdout",
          "text": [
            "\u001b[2K     \u001b[90m━━━━━━━━━━━━━━━━━━━━━━━━━━━━━━━━━━━━━━━━\u001b[0m \u001b[32m43.7/43.7 kB\u001b[0m \u001b[31m1.4 MB/s\u001b[0m eta \u001b[36m0:00:00\u001b[0m\n",
            "\u001b[2K     \u001b[90m━━━━━━━━━━━━━━━━━━━━━━━━━━━━━━━━━━━━━━━━\u001b[0m \u001b[32m60.8/60.8 kB\u001b[0m \u001b[31m1.6 MB/s\u001b[0m eta \u001b[36m0:00:00\u001b[0m\n",
            "\u001b[2K   \u001b[90m━━━━━━━━━━━━━━━━━━━━━━━━━━━━━━━━━━━━━━━━\u001b[0m \u001b[32m527.3/527.3 kB\u001b[0m \u001b[31m10.1 MB/s\u001b[0m eta \u001b[36m0:00:00\u001b[0m\n",
            "\u001b[2K   \u001b[90m━━━━━━━━━━━━━━━━━━━━━━━━━━━━━━━━━━━━━━━━\u001b[0m \u001b[32m9.5/9.5 MB\u001b[0m \u001b[31m29.9 MB/s\u001b[0m eta \u001b[36m0:00:00\u001b[0m\n",
            "\u001b[2K   \u001b[90m━━━━━━━━━━━━━━━━━━━━━━━━━━━━━━━━━━━━━━━━\u001b[0m \u001b[32m315.1/315.1 kB\u001b[0m \u001b[31m11.7 MB/s\u001b[0m eta \u001b[36m0:00:00\u001b[0m\n",
            "\u001b[2K   \u001b[90m━━━━━━━━━━━━━━━━━━━━━━━━━━━━━━━━━━━━━━━━\u001b[0m \u001b[32m13.4/13.4 MB\u001b[0m \u001b[31m42.7 MB/s\u001b[0m eta \u001b[36m0:00:00\u001b[0m\n",
            "\u001b[2K   \u001b[90m━━━━━━━━━━━━━━━━━━━━━━━━━━━━━━━━━━━━━━━━\u001b[0m \u001b[32m41.2/41.2 MB\u001b[0m \u001b[31m9.5 MB/s\u001b[0m eta \u001b[36m0:00:00\u001b[0m\n",
            "\u001b[2K   \u001b[90m━━━━━━━━━━━━━━━━━━━━━━━━━━━━━━━━━━━━━━━━\u001b[0m \u001b[32m116.3/116.3 kB\u001b[0m \u001b[31m6.2 MB/s\u001b[0m eta \u001b[36m0:00:00\u001b[0m\n",
            "\u001b[2K   \u001b[90m━━━━━━━━━━━━━━━━━━━━━━━━━━━━━━━━━━━━━━━━\u001b[0m \u001b[32m39.9/39.9 MB\u001b[0m \u001b[31m11.6 MB/s\u001b[0m eta \u001b[36m0:00:00\u001b[0m\n",
            "\u001b[2K   \u001b[90m━━━━━━━━━━━━━━━━━━━━━━━━━━━━━━━━━━━━━━━━\u001b[0m \u001b[32m134.8/134.8 kB\u001b[0m \u001b[31m4.9 MB/s\u001b[0m eta \u001b[36m0:00:00\u001b[0m\n",
            "\u001b[2K   \u001b[90m━━━━━━━━━━━━━━━━━━━━━━━━━━━━━━━━━━━━━━━━\u001b[0m \u001b[32m194.1/194.1 kB\u001b[0m \u001b[31m11.1 MB/s\u001b[0m eta \u001b[36m0:00:00\u001b[0m\n",
            "\u001b[?25h\u001b[31mERROR: pip's dependency resolver does not currently take into account all the packages that are installed. This behaviour is the source of the following dependency conflicts.\n",
            "cudf-cu12 24.4.1 requires pyarrow<15.0.0a0,>=14.0.1, but you have pyarrow 17.0.0 which is incompatible.\n",
            "gensim 4.3.3 requires scipy<1.14.0,>=1.7.0, but you have scipy 1.14.1 which is incompatible.\n",
            "ibis-framework 8.0.0 requires pyarrow<16,>=2, but you have pyarrow 17.0.0 which is incompatible.\u001b[0m\u001b[31m\n",
            "\u001b[0m"
          ]
        }
      ],
      "source": [
        "! pip install -q datasets transformers accelerate scikit-learn scipy -U"
      ]
    },
    {
      "cell_type": "markdown",
      "metadata": {
        "id": "FWJYPqj-JTYq"
      },
      "source": [
        "## Imports"
      ]
    },
    {
      "cell_type": "code",
      "execution_count": 2,
      "metadata": {
        "id": "e5OB8685hWHW"
      },
      "outputs": [],
      "source": [
        "from typing import Dict, List, Optional, Union, Any, Tuple\n",
        "from datasets import load_dataset, concatenate_datasets, Dataset, DatasetDict\n",
        "from transformers import AutoTokenizer, AutoModel, Trainer, TrainingArguments, AutoModelForCausalLM, AutoModelForSeq2SeqLM\n",
        "import torch\n",
        "import torch.nn as nn\n",
        "import torch.nn.functional as F\n",
        "from scipy.stats import spearmanr\n",
        "import numpy as np\n",
        "from sklearn.model_selection import train_test_split\n",
        "import pandas as pd\n",
        "from sklearn.linear_model import LogisticRegression\n",
        "import gzip\n",
        "import csv"
      ]
    },
    {
      "cell_type": "code",
      "execution_count": 3,
      "metadata": {
        "colab": {
          "base_uri": "https://localhost:8080/",
          "height": 35
        },
        "id": "bYyZ-fo-UaFi",
        "outputId": "6c93d2d6-5034-4c3a-aff8-34abf426f0a7"
      },
      "outputs": [
        {
          "output_type": "execute_result",
          "data": {
            "text/plain": [
              "'Tesla T4'"
            ],
            "application/vnd.google.colaboratory.intrinsic+json": {
              "type": "string"
            }
          },
          "metadata": {},
          "execution_count": 3
        }
      ],
      "source": [
        "torch.cuda.get_device_name()"
      ]
    },
    {
      "cell_type": "markdown",
      "metadata": {
        "id": "oKd63ogoJZYp"
      },
      "source": [
        "## Tokenizer"
      ]
    },
    {
      "cell_type": "markdown",
      "metadata": {
        "id": "xzXAVVK4UaFi"
      },
      "source": [
        "The Tokenizer method, for now the maximum length is fixed to 512, which is the maximum permissible token length limit for BERT models. This needs to be set to the length of the longest sentence in the batch...\n",
        "\n",
        "1. For **Classification Task**, there is only one column, `text1` containing the sentences and their corresponding `label` column. To work with the loss functions in this system, the sentences need to be tokenized and processed in pairs. Hence, the contents of the `text1` column needs to be duplicated into another column `text2` where an example will then contain 2 sentence columns (`text1` and `text2`) and a `label` column. For example,\n",
        "\n",
        "```python\n",
        "text1 = [\"Sentence1\", \"Sentence2\", \"Sentence3\", \"Sentence4\", \"Sentence5\"]\n",
        "label = [0, 1, 0, 1, 0]\n",
        "```\n",
        "\n",
        "needs to be converted into the following format before tokenization:\n",
        "\n",
        "```python\n",
        "text1 = [\"Sentence1\", \"Sentence2\", \"Sentence3\", \"Sentence4\", \"Sentence5\"]\n",
        "text2 = [\"Sentence1\", \"Sentence2\", \"Sentence3\", \"Sentence4\", \"Sentence5\"]\n",
        "label = [0, 1, 0, 1, 0]\n",
        "```\n",
        "\n",
        "where the `text2` column is just a duplicate of the column, `text1`\n",
        "\n",
        "2. In case of **STS task**, this step is not required, since it already contains a sentence pair and a label for each example. They are already in the following format:\n",
        "\n",
        "```python\n",
        "text1 = [\"Sentence1\", \"Sentence2\", \"Sentence3\", \"Sentence4\", \"Sentence5\"]\n",
        "text2 = [\"Sentence1*\", \"Sentence2*\", \"Sentence3*\", \"Sentence4*\", \"Sentence5*\"]\n",
        "label = [0.2, 1.2, 2.0, 3.8, 0.4]\n",
        "```\n",
        "where `\"Sentence1\"` and `\"Sentence1*\"` are the sentence pairs of the same example\n",
        "\n",
        "The output of the tokenizer will be the **tokens** for sentence pairs along with a `separate_id` demarcating `\"Sentence1\"` and `\"Sentence1*\"`.\n",
        "\n",
        "```python\n",
        "text1 = [\"Sentence1\", \"Sentence2\", ...]\n",
        "text2 = [\"Sentence1*\", \"Sentence2*\", ...]\n",
        "label = [0, ...]\n",
        "\n",
        "# The tokens will look like\n",
        "tokens = [\n",
        "  {\n",
        "    \"input_ids\": [102, 2019, 2093, 2910, 2, 0, 28823, 29371, 5738, 2],\n",
        "    \"attention_mask\": [1, 1, 1, 1, 1, 1, 1, 1, 1, 1],\n",
        "    \"separate_ids\": [0, 0, 0, 0, 0, 0, 1, 1, 1, 1],\n",
        "    \"label\": [0]\n",
        "  }, # sentence_1_1*_token\n",
        "  {\n",
        "    \"input_ids\": [102, 2019, 2093, 2910, 2, 0, 28823, 29371, 5738, 2],\n",
        "    \"attention_mask\": [1, 1, 1, 1, 1, 1, 1, 1, 1, 1],\n",
        "    \"separate_ids\": [0, 0, 0, 0, 0, 0, 1, 1, 1, 1],\n",
        "    \"label\": [1]\n",
        "  }, #sentence_2_2*_token\n",
        "  ...\n",
        "]\n",
        "```\n",
        "\n",
        "Hence, for each example, the token generated by the tokenizer will contain both the tokenized sentences and can be expressed as `sentence_1_1*_token`, `sentence_2_2*_token`, etc. which will be fed to the data collator, later in the system."
      ]
    },
    {
      "cell_type": "code",
      "execution_count": 4,
      "metadata": {
        "id": "Wlya304lhWHX"
      },
      "outputs": [],
      "source": [
        "class CustomDataTokenizer:\n",
        "    def __init__(self, tokenizer, max_length = 512):\n",
        "        self.tokenizer = tokenizer\n",
        "        self.max_length = max_length\n",
        "\n",
        "    def __call__(self, data: Dict) -> Dict:\n",
        "        text_columns = ['text1', 'text2']\n",
        "\n",
        "        tokens_list = []\n",
        "        for text_column in text_columns:\n",
        "            tokens_list.append(self.tokenizer(data[text_column], max_length=self.max_length, truncation=True))\n",
        "\n",
        "        token = {}\n",
        "        seperate_ids = []\n",
        "        for i, t in enumerate(tokens_list):\n",
        "            # Input IDs and Attention Masks are in \"t\"...\n",
        "            for key, val in t.items():\n",
        "                if i == 0:\n",
        "                    token[key] = val\n",
        "                else:\n",
        "                    token[key] += val\n",
        "                if key == 'input_ids':\n",
        "                    seperate_ids += [i] * len(val)\n",
        "\n",
        "        token['labels'] = [int(data['label']) if 'label' in data else -1]\n",
        "        token['seperate_ids'] = seperate_ids\n",
        "\n",
        "        return token"
      ]
    },
    {
      "cell_type": "markdown",
      "metadata": {
        "id": "yDR2QBJiKnBf"
      },
      "source": [
        "## Data Collator"
      ]
    },
    {
      "cell_type": "markdown",
      "metadata": {
        "id": "Bx8iSK42UaFl"
      },
      "source": [
        "The custom data collator processes the data passed on from the tokenizer, applies padding and processes the batches to be fed to the model for training. The list of tokenized inputs is converted into torch tensors in batches.\n",
        "\n",
        "The tokenized inputs containing tokenized sentence pairs for an example are expressed as `sentence_1_1*_token`, `sentence_2_2*_token`, etc. as discussed before.\n",
        "\n",
        "The collator performs the transformation of data from:\n",
        "\n",
        "```python\n",
        "text1 = [sentence_1_1*_token, sentence_2_2*_token, sentence_3_3*_token, sentence_4_4*_token, sentence_5_5*_token]\n",
        "labels = [0, 1, 2, 3, 0]\n",
        "```\n",
        "\n",
        "where `sentence_1_1*_token`, `sentence_2_2*_token`, ... are the combined tokenized outputs from the tokenizer containing both sentences of `text1` and `text2` for each example, demarcated by `separate_id`,\n",
        "\n",
        "To:\n",
        "\n",
        "```python\n",
        "text = [sentence_1_token, sentence_1*_token, sentence_2_token, sentence_2*_token,sentence_3_token, sentence_3*_token, sentence_4_token, sentence_4*_token, sentence_5_token, sentence_5*_token]\n",
        "labels = [0, 0, 1, 1, 2, 2, 4, 4, 0, 0]\n",
        "```\n",
        "\n",
        "where the sentences have been separated based on their `separate_id` values into separate samples, sharing the same labels which have been duplicated."
      ]
    },
    {
      "cell_type": "code",
      "execution_count": 73,
      "metadata": {
        "id": "xar9ji1NhWHY"
      },
      "outputs": [],
      "source": [
        "# Modified from https://github.com/SeanLee97/AnglE/blob/main/angle_emb/angle.py#L568\n",
        "class CustomDataCollator:\n",
        "    tokenizer = None\n",
        "    padding = 'longest'\n",
        "    max_length: Optional[int] = 512\n",
        "    return_tensors: str = \"pt\"\n",
        "\n",
        "    def __init__(self, tokenizer_base):\n",
        "        self.tokenizer = tokenizer_base\n",
        "\n",
        "    def __call__(self, features: List[Dict], return_tensors: str = \"pt\") -> Dict[str, torch.Tensor]:\n",
        "        if return_tensors is None:\n",
        "            return_tensors = self.return_tensors\n",
        "\n",
        "        # print(\"Unprocessed Features: \", features)\n",
        "        new_features = []\n",
        "        for feature in features:\n",
        "            seperate_ids = feature['seperate_ids']\n",
        "            input_ids = feature['input_ids']\n",
        "            attention_mask = feature['attention_mask']\n",
        "\n",
        "            max_seperate_id = max(seperate_ids)\n",
        "            prev_start_idx = 0\n",
        "            for seperate_id in range(1, max_seperate_id + 1):\n",
        "                start_idx = seperate_ids.index(seperate_id)\n",
        "\n",
        "                new_feature = {}\n",
        "                new_feature['input_ids'] = input_ids[prev_start_idx:start_idx]\n",
        "                new_feature['attention_mask'] = attention_mask[prev_start_idx:start_idx]\n",
        "                new_feature['labels'] = feature['labels']\n",
        "                new_features.append(new_feature)\n",
        "                prev_start_idx = start_idx\n",
        "\n",
        "            new_feature = {}\n",
        "            new_feature['input_ids'] = input_ids[prev_start_idx:]\n",
        "            new_feature['attention_mask'] = attention_mask[prev_start_idx:]\n",
        "            new_feature['labels'] = feature['labels']\n",
        "            new_features.append(new_feature)\n",
        "\n",
        "        del features\n",
        "        features = self.tokenizer.pad(\n",
        "            {'input_ids': [feature['input_ids'] for feature in new_features]},\n",
        "            padding=self.padding,\n",
        "            max_length=self.max_length,\n",
        "            return_tensors=return_tensors,\n",
        "        )\n",
        "        features['attention_mask'] = self.tokenizer.pad(\n",
        "            {'input_ids': [feature['attention_mask'] for feature in new_features]},\n",
        "            padding=self.padding,\n",
        "            max_length=self.max_length,\n",
        "            return_tensors=return_tensors,\n",
        "        )['input_ids']\n",
        "\n",
        "        features['labels'] = torch.Tensor([feature['labels'] for feature in new_features])\n",
        "        # print(\"Processed Features: \", features)\n",
        "        return features"
      ]
    },
    {
      "cell_type": "markdown",
      "metadata": {
        "id": "Wf43nyBfJpUi"
      },
      "source": [
        "## Losses"
      ]
    },
    {
      "cell_type": "markdown",
      "metadata": {
        "id": "OkSrRaOJUaFj"
      },
      "source": [
        "### 1. Default Pairwise Cosine Similarity Loss"
      ]
    },
    {
      "cell_type": "markdown",
      "metadata": {
        "id": "zgOxGN00TS0Y"
      },
      "source": [
        "The `default_cosine_similarity_loss` is a basic similarity-based loss function which calculates a loss value based on the cosine similarity of paired embeddings, and the respective ground truth labels. It normalizes the true similarity scores, computes cosine similarities between paired embeddings, and applies the mean squared error (MSE) function to produce a final loss value.\n",
        "\n",
        "<br>\n",
        "\n",
        "**Pairwise Cosine Similarity Loss Equation**:\n",
        "\n",
        "$$\\mathcal{L}_{\\text{Cosine MSE}} = \\frac{1}{N} \\sum_{i=1}^{N} \\left( y_{\\text{true}} - \\cos(X_i, X_j) \\right)^2$$\n",
        "\n",
        "  - ${y_\\text{true}}$ - Labelled similarity scores ranging between 0 and 5, which after normalization vary between 0 and 1.\n",
        "  - ${X_i, X_j}$ - Embeddings of the corresponding sentences ${S_i}$ and ${S_j}$ respectively.\n",
        "  - ${\\cos(X, Y)}$ - Cosine similarity between the sentence embeddings ${X}$ and ${Y}$.\n",
        "\n",
        "<br>\n",
        "\n",
        "**Loss Function SBERT Reference**:\n",
        "<a href=\"https://www.sbert.net/docs/package_reference/sentence_transformer/losses.html#sentence_transformers.losses.CosineSimilarityLoss\"> Sentence Transformers/CosineSimilarityLoss</a>\n",
        "\n",
        "**GitHub Reference**:\n",
        "<a href=\"https://github.com/UKPLab/sentence-transformers/blob/master/sentence_transformers/losses/CosineSimilarityLoss.py#L10-L81\">Sentence Transformers/CosineSimilarityLoss</a>\n",
        "\n",
        "<br>\n",
        "\n",
        "**Implementation**:\n",
        "\n",
        "The true labels and predicted values are arranged in a paired manner such as `[x[0], x[1], x[2], x[3], ...]`, where `x[0]` and `x[1]` stand for a sentence pair. According to this illustration, the index of `x` is the index of an example, and the true labels are adjusted to fall between 0 and 1.\n",
        "\n",
        "This format, achieved by the data collator, is required for the dataset to accommodate the definition of the loss function. In the case of the STS task, pairs of sentences along with their corresponding similarity scores are provided.\n",
        "\n",
        "1. **Function Definition and Parameters**:\n",
        "  - **Parameters**:\n",
        "    - `y_true`: A tensor of ground truth labels in a specific paired style where each pair of true values is structured sequentially. This represents the similarity score corresponding to each sentence pair. Shape: `(batch_size, 1)`\n",
        "    - `y_pred`: A tensor of model predictions (embedding vectors) also in the mentioned paired style, where each pair of predicted values is structured sequentially. Shape: `(batch_size, 2 * embedding_vector_length)`, where `embedding_vector_length` depends on the model.\n",
        "    - `tau`: A scaling factor (default is 1.0), but not used in this specific implementation.\n",
        "  - **Returns**:\n",
        "    - A tensor representing the loss value.\n",
        "\n",
        "  - **Semantic Textual Similarity (STS) Task**:\n",
        "  The STS datasets consist of sentence pairs and their corresponding similarity scores. For example, the datasets are arranged in the following way:\n",
        "  ```python\n",
        "  text1 = [\"Sentence 1\", \"Sentence 2\", \"Sentence 3\", \"Sentence 4\", \"Sentence 5\"]\n",
        "  text2 = [\"Sentence 1*\", \"Sentence 2*\", \"Sentence 3*\", \"Sentence 4*\", \"Sentence 5*\"]\n",
        "  label = [0.2, 1.2, 2.0, 3.8, 0.4]\n",
        "  ```\n",
        "  \n",
        "  After tokenization, collation, and passing through the model, the `y_true` and `y_pred` will be transformed into the following format to accommodate the definition of the loss function:\n",
        "\n",
        "  ```python\n",
        "  y_true: [0.2, 1.2, 2.0, 3.8, 0.4]\n",
        "  y_pred: [emb_1, emb_1*, emb_2, emb_2*, emb_3, emb_3*, emb_4, emb_4*, emb_5, emb_5*]\n",
        "  ```\n",
        "\n",
        "2. **Normalizing `y_true`:**\n",
        "  ```python\n",
        "  y_true = y_true / 5.0\n",
        "  y_true = y_true[::2, 0]\n",
        "  ```\n",
        "  This normalizes the labelled similarity scores to a range of `0` to `1`, since the the labels vary between `0` and `5`. It also selects every second element from `y_true` starting from the first element, since that is how the data had been arranged before entry into the loss function, where the 0th and 1st labels will be same as they belong to the sentence 1 and sentence 2 of the same data point respectively sharing the same labels, and so on.\n",
        "\n",
        "3. **Splitting y_pred into Pairs**:\n",
        "  ```python\n",
        "  y_pred1 = y_pred[0::2]\n",
        "  y_pred2 = y_pred[1::2]\n",
        "  ```\n",
        "\n",
        "  `y_pred1` and `y_pred2` refer to the predicted embeddings of sentences ${S_1}$ and ${S_1^*}$ respectively of a data point or sentence pair.\n",
        "\n",
        "4. **Computing Cosine Similarity for Pairs**:\n",
        "  ```python\n",
        "  cos_sim = F.cosine_similarity(y_pred1, y_pred2)\n",
        "  ```\n",
        "\n",
        "  The cosine similarity between the pairs of embeddings is computed. This measures the similarity between two vectors of an inner product space which is determined by the cosine of the angle between the two vectors and determines whether they are pointing in the same direction.\n",
        "\n",
        "5. **Calculating MSE Loss**:\n",
        "  ```python\n",
        "  squared_difference = (y_true - cos_sim) ** 2\n",
        "  loss = squared_difference.mean()\n",
        "  ```\n",
        "\n",
        "  The mean squared error (MSE) loss is computed by taking the squared difference between the true similarity scores (`y_true`) and the calculated cosine similarities (`cos_sim`). The mean of these squared differences is then computed to get the final loss value."
      ]
    },
    {
      "cell_type": "code",
      "execution_count": 6,
      "metadata": {
        "id": "rEImD1GKhtgQ"
      },
      "outputs": [],
      "source": [
        "# Modified from https://github.com/UKPLab/sentence-transformers/blob/master/sentence_transformers/losses/CosineSimilarityLoss.py#L10-L81\n",
        "def default_cosine_similarity_loss(y_true, y_pred, tau=1):\n",
        "    # Normalizing y_true values to fall between 0 and 1...\n",
        "    y_true = y_true / 5.0\n",
        "    y_true = y_true[::2, 0]\n",
        "    y_pred1 = y_pred[0::2]\n",
        "    y_pred2 = y_pred[1::2]\n",
        "\n",
        "    # Calculating the cosine similarity between the pairs of embeddings...\n",
        "    cos_sim = F.cosine_similarity(y_pred1, y_pred2)\n",
        "\n",
        "    # MSE loss...\n",
        "    squared_difference = (y_true - cos_sim) ** 2\n",
        "    loss = squared_difference.mean()\n",
        "\n",
        "    return loss"
      ]
    },
    {
      "cell_type": "markdown",
      "metadata": {
        "id": "7gf8LPyIiW4Y"
      },
      "source": [
        "### 2. CoSENT Loss"
      ]
    },
    {
      "cell_type": "markdown",
      "metadata": {
        "id": "pE5v8WjEW208"
      },
      "source": [
        "The `cosent_loss` function also calculates a loss value based on the cosine similarity of paired embeddings, and depends on the respective ground truth labels for maintaining the relative ranking of the data points. It normalizes the embeddings, computes cosine similarities, adjusts these similarities based on the order of true labels, and applies the $\\text{log-sum-exp}$ function to produce a final loss value.\n",
        "\n",
        "<br>\n",
        "\n",
        "**CoSENT Loss Equation**:\n",
        "\n",
        "  $$ \\mathcal{L}_{\\text{CoSENT}} = \\log \\left[ 1 + \\sum_{s(X_i, X_j) > s(X_m, X_n)} e^{\\frac{\\cos(X_m, X_n) - \\cos(X_i, X_j)}{\\tau}} \\right] $$\n",
        "  \n",
        "  - ${X_i, X_j, X_m, X_n}$ - Embeddings of the corresponding sentences ${S_i, S_j, S_m}$ and ${S_n}$ respectively.\n",
        "  - ${s(X_i, X_j), s(X_m, X_n)}$ - Provided similarity scores between the sentence pairs ${(X_i, X_j)}$ and ${(X_m, X_n)}$ respectively.\n",
        "  - ${\\cos(X, Y)}$ - Cosine similarity between the sentence embeddings ${X}$ and ${Y}$.\n",
        "  - ${\\tau}$ - Temperature hyperparameter.\n",
        "\n",
        "<br>\n",
        "\n",
        "**Reference**:\n",
        "    Huang, X., Peng, H., Zou, D., Liu, Z., Li, J., Liu, K., Wu, J., Su, J., & Yu, P. S. (2024). CoSENT: Consistent Sentence Embedding via Similarity Ranking. IEEE/ACM Transactions on Audio, Speech, and Language Processing. https://doi.org/10.1109/TASLP.2024.3402087\n",
        "\n",
        "<br>\n",
        "\n",
        "**Implementation**:\n",
        "<br>\n",
        "\n",
        "The true labels and predicted values are arranged in a \"zigzag\" manner such as `[x[0][0], x[0][1], x[1][0], x[1][1], ...]`, where `(x[0][0], x[0][1])` stands for a sentence pair. According to this illustration, the first index of `x` is the index of an example and the second index of `x` refers to `text1` denoted by '0' and `text2` denoted by 1.\n",
        "\n",
        "This format, achieved by the data collator, is required for the dataset to accommodate the definition of the loss function. In case of classification task, `x[0][0]` and `x[0][1]` refer to the same sentence (`text1` and `text2`), having the same labels, and in case of STS, `x[0][0]` stands for `text1` and `x[0][1]` stands for `text2`, also having the same label. This is explained with an example below.\n",
        "\n",
        "1. **Function Definition and Parameters**:\n",
        "   - **Parameters**:\n",
        "     - `y_true`: A tensor of ground truth labels in the mentioned specific \"zigzag\" style where each pair of true values is structured sequentially. This represents the label corresponding to each sentence. Shape: `(batch_size, 1)`\n",
        "     - `y_pred`: A tensor of model predictions (embedding vectors) also in the mentioned \"zigzag\" style, where each pair of predicted values is structured sequentially. Shape: `(batch_size, 2 * embedding_vector_length)`, where `embedding_vector_length` depends on the model. For example, for BERT Base, it is ${768}$ and ${1024}$ in case of BERT Large etc.\n",
        "     - `tau`: A scaling factor (default is 20.0) representing the temperature hyperparameter which controls the sharpness of the output distribution. A higher value of tau makes the output distribution sharper or makes the model more sensitive to differences between examples, whereas a lower value makes it smoother or less sensitive to differences.\n",
        "   - **Returns**:\n",
        "     - A tensor representing the loss value.\n",
        "\n",
        "  - **Classification Task**:\n",
        "  For example, in classification tasks, where there is a list of sentences and their corresponding binary labels:\n",
        "\n",
        "  ```python\n",
        "  text1 = [\"Sentence 1\", \"Sentence 2\", \"Sentence 3\", \"Sentence 4\", \"Sentence 5\"]\n",
        "  text2 = [\"Sentence 1\", \"Sentence 2\", \"Sentence 3\", \"Sentence 4\", \"Sentence 5\"]\n",
        "  label = [0, 1, 0, 1, 0]\n",
        "  ```\n",
        "\n",
        "  After tokenization, collation and passing through the model, the true labels (`y_true`) and predicted value (embedding vectors) (`y_pred`) will be transformed into duplicates in the following way to accommodate the definition of the loss function:\n",
        "\n",
        "  ```python\n",
        "  y_true: [0, 0, 1, 1, 0, 0, 1, 1, 0, 0]\n",
        "  y_pred: [emb_1, emb_1, emb_2, emb_2, emb_3, emb_3, emb_4, emb_4, emb_5, emb_5]\n",
        "  ```\n",
        "\n",
        "  - **STS Task**:\n",
        "  Such a transformation is not required for STS tasks since they are already sentence pairs (text1 and text2), along with their corresponding labels. Their arrangement is handled by the tokenizer and data collator which form the required zigzag pattern for training.\n",
        "\n",
        "  For Example, the dataset is arranged in the following way:\n",
        "  ```python\n",
        "  text1 = [\"Sentence 1\", \"Sentence 2\", \"Sentence 3\", \"Sentence 4\", \"Sentence 5\"]\n",
        "  text2 = [\"Sentence 1*\", \"Sentence 2*\", \"Sentence 3*\", \"Sentence 4*\", \"Sentence 5*\"]\n",
        "  label = [0.2, 1.2, 2.0, 3.8, 0.4]\n",
        "  ```\n",
        "\n",
        "  where `sentence1` (`text1`) and `sentence1*` (`text2`) are sentence pairs of an example with label, `o.2`\n",
        "\n",
        "  After tokenization, collation and passing through the model, the `y_true` and `y_pred` will be transformed into the following format to accomodate the definition of the loss function:\n",
        "\n",
        "  ```python\n",
        "  y_true: [0, 0, 1, 1, 2, 2, 4, 4, 0, 0]\n",
        "  y_pred: [emb_1, emb_1*, emb_2, emb_2*, emb_3, emb_3*, emb_4, emb_4*, emb_5, emb_5*]\n",
        "  ```\n",
        "\n",
        "2. **Reshaping `y_true`**:\n",
        "   ```python\n",
        "   y_true = y_true[::2, 0]\n",
        "   ```\n",
        "   - This line selects every second element from `y_true` starting from the first element and takes the first value from each pair. Essentially, it reduces the `y_true` tensor to half its length, focusing only on the first element of each pair.\n",
        "\n",
        "3. **Creating Pairwise Label Matrix**:\n",
        "   ```python\n",
        "   y_true = (y_true[:, None] < y_true[None, :]).float()\n",
        "   ```\n",
        "   - This creates a pairwise comparison matrix for the ground truth labels. For each pair `(i, j)`, it checks if `y_true[i]` is less than `y_true[j]`. The result is a binary matrix (0 or 1) where each element indicates the order relationship between pairs.\n",
        "\n",
        "4. **Normalizing `y_pred`**:\n",
        "   ```python\n",
        "   y_pred = F.normalize(y_pred, p=2, dim=1)\n",
        "   ```\n",
        "   - The predicted vectors (`y_pred`) are normalized to have unit length ($L^2$ norm).\n",
        "\n",
        "5. **Computing Cosine Similarity for Pairs**:\n",
        "   ```python\n",
        "   y_pred = torch.sum(y_pred[::2] * y_pred[1::2], dim=1) * tau\n",
        "   ```\n",
        "   - This computes the cosine similarity between the pairs of vectors in `y_pred`. For each pair `(i, i + 1)`, it multiplies the corresponding vectors element-wise, sums them up, and scales by the factor `tau`.\n",
        "\n",
        "6. **Creating Pairwise Score Differences**:\n",
        "   ```python\n",
        "   y_pred = y_pred[:, None] - y_pred[None, :]\n",
        "   ```\n",
        "   - This line computes the pairwise differences between the cosine similarity scores obtained in the previous step.\n",
        "\n",
        "7. **Adjusting Pairwise Differences with `y_true`**:\n",
        "   ```python\n",
        "   y_pred = (y_pred - (1 - y_true) * 1e12).view(-1)\n",
        "   ```\n",
        "   - The pairwise differences are adjusted by a large negative value (`-1e12`) for pairs that are not in the correct order according to `y_true`. This effectively masks out the incorrect pairs by making their differences very large and negative.\n",
        "\n",
        "8. **Adding Zero to `y_pred`**:\n",
        "   ```python\n",
        "   zero = torch.Tensor([0]).to(y_pred.device)\n",
        "   y_pred = torch.concat((zero, y_pred), dim=0)\n",
        "   ```\n",
        "   - A zero tensor is concatenated to `y_pred` to ensure numerical stability in the next step.\n",
        "\n",
        "  The $\\text{log-sum-exp}$ (LSE) function is used to compute a stable logarithm of the sum of exponentials, which is a common operation in various loss functions. The formula for the LSE is:\n",
        "\n",
        "  $$\\text{log-sum-exp}(x) = \\log \\left( \\sum_i e^{x_i} \\right)$$\n",
        "\n",
        "  This function is sensitive to large negative values in ${x_i}$, which can cause numerical instability or underflow issues. To prevent this, a zero element is added to the vector before applying the $\\text{log-sum-exp}$ operation which ensures that there is at least one element in the tensor that does not contribute to the instability.\n",
        "\n",
        "  - **Creating Zero Tensor**:\n",
        "    ```python\n",
        "    zero = torch.Tensor([0]).to(y_pred.device)\n",
        "    ```\n",
        "    - This line creates a tensor containing a single zero and moves it to the same device (CPU or GPU) as `y_pred`. This ensures that tensor operations are performed on the same hardware, avoiding device mismatch errors.\n",
        "\n",
        "  - **Concatenating Zero with `y_pred`**:\n",
        "    ```python\n",
        "    y_pred = torch.concat((zero, y_pred), dim=0)\n",
        "    ```\n",
        "    - This line concatenates the zero tensor to the beginning of `y_pred`. The result is a new tensor that has the zero element as its first element, followed by all elements of the original `y_pred`.\n",
        "\n",
        "  Effects of Zero Addition:\n",
        "\n",
        "  - **Avoiding Underflow**: By adding a zero, it is ensured that the $\\text{log-sum-exp}$ computation includes a stable baseline value. Since the exponential of zero is one ${e^0 = 1}$, it does not affect the sum in a significant way but prevents the entire sum from becoming too small (which can cause underflow).\n",
        "  - **Ensuring Positivity**: In certain cases, especially when all elements in `y_pred` are negative or very small, the sum of exponentials can become exceedingly small. Adding a zero ensures the sum remains positive and within a stable numerical range.\n",
        "\n",
        "9. **Computing the final Log-Sum-Exp loss value**:\n",
        "   ```python\n",
        "   return torch.logsumexp(y_pred, dim=0)\n",
        "   ```\n",
        "   - Finally, the $\\text{log-sum-exp}$ function is applied to `y_pred`. This operation is used to compute a smooth maximum and is commonly used in loss functions to ensure numerical stability and to handle a large range of values."
      ]
    },
    {
      "cell_type": "code",
      "execution_count": 74,
      "metadata": {
        "id": "w7eol13bhy0A"
      },
      "outputs": [],
      "source": [
        "# modified from: https://github.com/bojone/CoSENT/blob/124c368efc8a4b179469be99cb6e62e1f2949d39/cosent.py#L79\n",
        "def cosent_loss(y_true: torch.Tensor, y_pred: torch.Tensor, tau: float = 20.0) -> torch.Tensor:\n",
        "    # Input preparation...\n",
        "    y_true = y_true[::2, 0]\n",
        "    y_true = (y_true[:, None] < y_true[None, :]).float()\n",
        "\n",
        "    # Normalization of Logits...\n",
        "    y_pred = F.normalize(y_pred, p=2, dim=1)\n",
        "\n",
        "    # Cosine Similarity Calculation...\n",
        "    # y_pred[::2] and y_pred[1::2] select alternating embeddings, assuming they are paired...\n",
        "    # The dot product of these pairs gives the cosine similarity, scaled by a factor of tau to control the sharpness of similarity scores...\n",
        "    y_pred = torch.sum(y_pred[::2] * y_pred[1::2], dim=1) * tau\n",
        "\n",
        "    # Pairwise cosine similarity difference calculation...\n",
        "    y_pred = y_pred[:, None] - y_pred[None, :]\n",
        "\n",
        "    y_pred = (y_pred - (1 - y_true) * 1e12).view(-1)\n",
        "\n",
        "    zero = torch.Tensor([0]).to(y_pred.device)\n",
        "    y_pred = torch.concat((zero, y_pred), dim=0)\n",
        "    return torch.logsumexp(y_pred, dim=0)"
      ]
    },
    {
      "cell_type": "markdown",
      "metadata": {
        "id": "4kVKFuNSh8ri"
      },
      "source": [
        "### 3. In-Batch Negatives Loss"
      ]
    },
    {
      "cell_type": "markdown",
      "metadata": {
        "id": "3FlQEvYk4ECF"
      },
      "source": [
        "The `in_batch_negative_loss` function function uses in-batch negatives which include the sentences not declared as positive pairs explicitly in a batch, to calculate the loss thus encouraging the model to learn embeddings such that positives are closer together and negatives are farther apart in the embedding space.\n",
        "\n",
        "<br>\n",
        "\n",
        "**In-Batch Negative Loss Equation**:\n",
        "\n",
        "$$ \\mathcal{L}_{\\text{ibn}} = - \\sum_{b} \\sum_{i}^{m} \\log \\left[ \\frac{e^{\\cos \\left( \\frac{X_{bi}, X_{bi}^+}{\\tau} \\right)}}{ \\sum_{j}^{N} e^{ \\cos \\left( \\frac{X_{bi}, X_{bj}^+}{\\tau} \\right)}} \\right]$$\n",
        "\n",
        "- ${b}$ - Batch number\n",
        "- ${X_{bi}}$ and ${X_{bj}}$ - Embeddings of the corresponding sentences ${S_{bi}}$ and ${S_{bj}}$ respectively.\n",
        "- ${X_{bi}^+}$ and ${X_{bj}^+}$ - Positive Samples of ${X_{bi}}$ and ${X_{bj}}$\n",
        "- ${m}$ - Number of Positive Pairs in ${b^{th}}$ batch\n",
        "- ${N}$ - Batch Size\n",
        "\n",
        "<br>\n",
        "\n",
        "**Reference**:\n",
        "    Tang, Y., Cheng, H., Fang, Y., & Pan, Y. (2022, October). In-Batch Negatives' Enhanced Self-Supervised Learning. In 2022 IEEE 34th International Conference on Tools with Artificial Intelligence (ICTAI) (pp. 161-166). IEEE. https://doi.org/10.1109/ICTAI.2022.00029\n",
        "\n",
        "<br>\n",
        "\n",
        "**Implementation**:\n",
        "<br>\n",
        "\n",
        "1. **Function Definition and Parameters**:\n",
        "   - **Parameters**:\n",
        "     - `y_true`: A tensor of ground truth labels for the STS-Benchmark dataset, representing similarity scores for sentence pairs. Shape: `(batch_size, 1)`\n",
        "     - `y_pred`: A tensor of model predictions (embedding vectors) generated after passing through the BERT encoder layers. Shape: `(batch_size, 2 * embedding_vector_length)`\n",
        "     - `tau`: A scaling factor (default is 20.0) representing the temperature hyperparameter which controls the sharpness of the output distribution.\n",
        "     - `negative_weights`: A weight for negative samples, defaulting to 0.0.\n",
        "   - **Returns**:\n",
        "     - A tensor representing the loss value.\n",
        "\n",
        "  - **Example**:\n",
        "  For example, in the STS task, the dataset is arranged in the following way:\n",
        "  ```python\n",
        "  text1 = [\"Sentence 1\", \"Sentence 2\", \"Sentence 3\"]\n",
        "  text2 = [\"Sentence 1*\", \"Sentence 2*\", \"Sentence 3*\"]\n",
        "  label = [5, 1, 2]\n",
        "  ```\n",
        "\n",
        "  After tokenization, collation, and passing through the model, the true labels (`y_true`) and predicted value (embedding vectors) (`y_pred`) will be transformed into the following format to accommodate the definition of the loss function:\n",
        "\n",
        "  ```python\n",
        "  y_true: [5, 1, 2]\n",
        "  y_pred: [emb_1, emb_1*, emb_2, emb_2*, emb_3, emb_3*]\n",
        "  ```\n",
        "\n",
        "2. **Creating Target Matrix**:\n",
        "\n",
        "   ```python\n",
        "   def make_target_matrix(y_true: torch.Tensor):\n",
        "       idxs = torch.arange(0, y_pred.shape[0]).int().to(device)\n",
        "       y_true = y_true.int()\n",
        "       idxs_1 = idxs[None, :]\n",
        "       idxs_2 = (idxs + 1 - idxs % 2 * 2)[:, None]\n",
        "\n",
        "       idxs_1 *= y_true.T\n",
        "       idxs_1 += (y_true.T == 0).int() * -2\n",
        "\n",
        "       idxs_2 *= y_true\n",
        "       idxs_2 += (y_true == 0).int() * -1\n",
        "\n",
        "       y_true = (idxs_1 == idxs_2).float()\n",
        "       return y_true\n",
        "   ```\n",
        "\n",
        "   - This constructs a matrix to identify positive and negative pairs within the batch.\n",
        "     - **`idxs = torch.arange(0, y_pred.shape[0]).int().to(device)`**: Creates an array of indices for the batch.\n",
        "     - **`y_true = y_true.int()`**: Converts `y_true` to integer type.\n",
        "     - **`idxs_1 = idxs[None, :]`**: Expands `idxs` for broadcasting.\n",
        "     - **`idxs_2 = (idxs + 1 - idxs % 2 * 2)[:, None]`**: Creates alternating pairs of indices.\n",
        "     - **`idxs_1 *= y_true.T`**: Multiplies by transposed `y_true` to retain valid pairs.\n",
        "     - **`idxs_1 += (y_true.T == 0).int() * -2`**: Sets invalid pairs to -2.\n",
        "     - **`idxs_2 *= y_true`**: Multiplies by `y_true` to retain valid pairs.\n",
        "     - **`idxs_2 += (y_true == 0).int() * -1`**: Sets invalid pairs to -1.\n",
        "     - **`y_true = (idxs_1 == idxs_2).float()`**: Creates a binary target matrix where positive pairs are marked with 1 and negative pairs with 0.\n",
        "\n",
        "3. **Negative Mask**:\n",
        "\n",
        "   ```python\n",
        "   neg_mask = make_target_matrix(y_true == 0)\n",
        "   ```\n",
        "\n",
        "   - This creates a mask for identifying negative samples within the batch.\n",
        "     - **`make_target_matrix(y_true == 0)`**: Calls the `make_target_matrix` function with a condition to identify where the true labels are 0 (negative pairs).\n",
        "\n",
        "4. **Positive Samples Target Matrix**:\n",
        "\n",
        "   ```python\n",
        "   y_true = make_target_matrix(y_true)\n",
        "   ```\n",
        "\n",
        "   - This creates a target matrix for positive samples, representing the correct pairs within the batch.\n",
        "\n",
        "5. **Normalization and Similarity Calculation**:\n",
        "\n",
        "   ```python\n",
        "   y_pred = F.normalize(y_pred, dim=1, p=2)\n",
        "   similarities = y_pred @ y_pred.T\n",
        "   similarities = similarities - torch.eye(y_pred.shape[0]).to(device) * 1e12\n",
        "   similarities = similarities * tau\n",
        "   ```\n",
        "\n",
        "   - **Normalization**:\n",
        "     - **`y_pred = F.normalize(y_pred, dim=1, p=2)`**: Normalizes the embeddings to unit length (L2 norm) to ensure that the cosine similarity is valid by normalizing the embeddings.\n",
        "\n",
        "   - **Similarity Calculation**:\n",
        "     - **`similarities = y_pred @ y_pred.T`**: It computes the cosine similarity between all pairs of embeddings within the batch to calculate the similarities needed for the numerator and denominator in the loss equation.\n",
        "\n",
        "     $${\\cos \\left( X_{bi}, X_{bi}^+ \\right) \\text{,} \\cos \\left( X_{bi}, X_{bj}^+ \\right)}$$\n",
        "\n",
        "     - **Avoiding Self-Similarity**:\n",
        "       - **`similarities = similarities - torch.eye(y_pred.shape[0]).to(device) * 1e12`**: It subtracts a large value on the diagonal to avoid self-similarity to ensure that each embedding is not compared with itself.\n",
        "     - **Scaling**:\n",
        "       - **`similarities = similarities * tau`**: It scales the similarities by the temperature parameter ${\\tau}$ to adjust the sharpness of the distribution, making the model more sensitive to differences between examples.\n",
        "\n",
        "6. **Adjusting Similarities with Negative Weights**:\n",
        "\n",
        "   ```python\n",
        "   if negative_weights > 0:\n",
        "       similarities += neg_mask * negative_weights\n",
        "   ```\n",
        "\n",
        "   - This adjusts the similarities for negative samples if `negative_weights` is specified.\n",
        "     - **`similarities += neg_mask * negative_weights`**: Adds the negative mask weighted by `negative_weights` to the similarities.\n",
        "\n",
        "7. **Calculating Loss**:\n",
        "\n",
        "   The `categorical_crossentropy` function is implemented as:\n",
        "\n",
        "   ```python\n",
        "   def categorical_crossentropy(y_true, y_pred):\n",
        "       return -(F.log_softmax(y_pred, dim=1) * y_true).sum(dim=1)\n",
        "   ```\n",
        "   $${ \\log \\left[ \\frac{e^{\\cos \\left( X_{bi}, X_{bi}^+ \\right)}}{ \\sum_{j}^{N} e^{ \\cos \\left( X_{bi}, X_{bj}^+ \\right)}} \\right] }$$\n",
        "\n",
        "   - This function computes the loss value.\n",
        "\n",
        "8. **Calculating Mean Loss**:\n",
        "   \n",
        "   The mean loss is calculated by the `.mean()` after the `categorical_crossentropy` function.\n",
        "\n",
        "   ```python\n",
        "   return categorical_crossentropy(y_true, similarities).mean()\n",
        "   ```\n",
        "\n",
        "   $${- \\sum_{b} \\sum_{i}^{m}}$$\n",
        "\n",
        "   Where `m` represents the positive pairs in batch `b`.\n",
        "   - This calculates the mean loss value and returns the final loss for backpropagation."
      ]
    },
    {
      "cell_type": "code",
      "execution_count": 8,
      "metadata": {
        "id": "1xxZKUVTh_Y5"
      },
      "outputs": [],
      "source": [
        "def categorical_crossentropy(y_true: torch.Tensor, y_pred: torch.Tensor) -> torch.Tensor:\n",
        "    return -(F.log_softmax(y_pred, dim=1) * y_true).sum(dim=1)\n",
        "\n",
        "# Taken from https://github.com/SeanLee97/AnglE/blob/main/angle_emb/angle.py#L166\n",
        "def in_batch_negative_loss(y_true: torch.Tensor,\n",
        "                           y_pred: torch.Tensor,\n",
        "                           tau: float = 20.0,\n",
        "                           negative_weights: float = 0.0) -> torch.Tensor:\n",
        "    device = y_true.device\n",
        "\n",
        "    def make_target_matrix(y_true: torch.Tensor):\n",
        "        idxs = torch.arange(0, y_pred.shape[0]).int().to(device)\n",
        "        y_true = y_true.int()\n",
        "        idxs_1 = idxs[None, :]\n",
        "        idxs_2 = (idxs + 1 - idxs % 2 * 2)[:, None]\n",
        "\n",
        "        idxs_1 *= y_true.T\n",
        "        idxs_1 += (y_true.T == 0).int() * -2\n",
        "\n",
        "        idxs_2 *= y_true\n",
        "        idxs_2 += (y_true == 0).int() * -1\n",
        "\n",
        "        y_true = (idxs_1 == idxs_2).float()\n",
        "        return y_true\n",
        "\n",
        "    neg_mask = make_target_matrix(y_true == 0)\n",
        "\n",
        "    y_true = make_target_matrix(y_true)\n",
        "\n",
        "    y_pred = F.normalize(y_pred, dim=1, p=2)\n",
        "    similarities = y_pred @ y_pred.T\n",
        "    similarities = similarities - torch.eye(y_pred.shape[0]).to(device) * 1e12\n",
        "    similarities = similarities * tau\n",
        "\n",
        "    if negative_weights > 0:\n",
        "        similarities += neg_mask * negative_weights\n",
        "\n",
        "    return categorical_crossentropy(y_true, similarities).mean()"
      ]
    },
    {
      "cell_type": "markdown",
      "metadata": {
        "id": "KzGhQzFHiEow"
      },
      "source": [
        "### 4. Angle Loss"
      ]
    },
    {
      "cell_type": "markdown",
      "metadata": {
        "id": "YHebP3UARo5c"
      },
      "source": [
        "The `angle_loss` function calculates the angle difference in complex space to address the saturation zone problem in cosine similarity, optimizing the model's ability to distinguish between similar and dissimilar samples effectively.\n",
        "\n",
        "<br>\n",
        "\n",
        "**Angle Loss Equation**:\n",
        "\n",
        "$${\\mathcal{L}_{\\text{angle}} = \\log \\left[ 1 + \\sum_{s(X_i, X_j) > s(X_m, X_n)} e^{\\frac{\\Delta \\theta_{ij} - \\Delta \\theta_{mn}}{\\tau}} \\right]}$$\n",
        "\n",
        "- ${\\Delta \\theta_{ij}}$: Angle difference between embeddings ${X_i}$ and ${X_j}$\n",
        "- ${\\Delta \\theta_{mn}}$: Angle difference between embeddings ${X_m}$ and ${X_n}$\n",
        "- ${\\tau}$: Temperature hyperparameter\n",
        "\n",
        "<br>\n",
        "\n",
        "**Reference**:\n",
        "    Li, X., & Li, J. (2023). Angle-Optimized Text Embeddings. In Proceedings of the International Conference on Learning Representations (ICLR 2024). https://doi.org/10.48550/arXiv.2309.12871\n",
        "\n",
        "<br>\n",
        "\n",
        "**Implementation**:\n",
        "<br>\n",
        "\n",
        "1. **Function Definition and Parameters**:\n",
        "   - **Parameters**:\n",
        "     - `y_true`: Ground truth labels for the dataset, representing similarity scores for pairs. Shape: `(batch_size, 1)`\n",
        "     - `y_pred`: Model predictions (embedding vectors). Shape: `(batch_size, 2 * embedding_vector_length)`\n",
        "     - `tau`: Temperature hyperparameter, default is 1.0.\n",
        "   - **Returns**:\n",
        "     - A tensor representing the loss value.\n",
        "\n",
        "2. **Processing Ground Truth Labels**:\n",
        "   ```python\n",
        "   y_true = y_true[::2, 0]\n",
        "   ```\n",
        "   - This selects every second element from the ground truth tensor and prepares the ground truth labels for calculating pairwise comparisons.\n",
        "\n",
        "   ```python\n",
        "   y_true = (y_true[:, None] < y_true[None, :]).float()\n",
        "   ```\n",
        "   - It creates a matrix of pairwise comparisons, indicating which samples are less than others. It is a binary matrix for ${s(X_i, X_j) > s(X_m, X_n)}$ comparisons.\n",
        "\n",
        "3. **Splitting Predicted Embeddings into Real and Imaginary Parts**:\n",
        "   ```python\n",
        "   y_pred_re, y_pred_im = torch.chunk(y_pred, 2, dim=1)\n",
        "   ```\n",
        "   - This splits the predicted embeddings into real and imaginary parts by chunking which is dividing ${X_i}$ and ${X_j}$ into their real and imaginary components ${z = a + bi}$ and ${w = c + di}$.\n",
        "\n",
        "   ```python\n",
        "   a = y_pred_re[::2]\n",
        "   b = y_pred_im[::2]\n",
        "   c = y_pred_re[1::2]\n",
        "   d = y_pred_im[1::2]\n",
        "   ```\n",
        "   - It assigns the real and imaginary parts to variables corresponding to pairs thus preparing the variables for calculating the angle differences ${\\Delta \\theta_{ij}}$ and ${\\Delta \\theta_{mn}}$.\n",
        "\n",
        "4. **Calculating Angle Difference in Complex Space**:\n",
        "   ```python\n",
        "   z = torch.sum(c* *2 + d* *2, dim=1, keepdim=True)\n",
        "   ```\n",
        "   - It calculates the magnitude of the complex number for normalization which computes ${\\sqrt{c^2 + d^2}}$, the denominator in the angle difference calculation.\n",
        "\n",
        "   ```python\n",
        "   re = (a * c + b * d) / z\n",
        "   im = (b * c - a * d) / z\n",
        "   ```\n",
        "   - It calculates the real and imaginary parts of the normalized angle difference which implements the real and imaginary parts of the division ${\\frac{z}{w}}$ in the complex space.\n",
        "\n",
        "   ```python\n",
        "   dz = torch.sum(a**2 + b**2, dim=1, keepdim=True)**0.5\n",
        "   dw = torch.sum(c**2 + d**2, dim=1, keepdim=True)**0.5\n",
        "   ```\n",
        "   - This computes the magnitudes of the embeddings or ${|z|}$ and ${|w|}$ for normalization.\n",
        "\n",
        "   ```python\n",
        "   re /= (dz / dw)\n",
        "   im /= (dz / dw)\n",
        "   ```\n",
        "   - It normalizes the real and imaginary parts by their respective magnitudes. This is related to normalizing the angle difference to mitigate the impact of high variance of magnitudes, aligning with ${\\Delta \\theta_{ij}}$ and ${\\Delta \\theta_{mn}}$.\n",
        "\n",
        "5. **Combining and Adjusting Predictions**:\n",
        "   ```python\n",
        "   y_pred = torch.concat((re, im), dim=1)\n",
        "   ```\n",
        "   - It concatenates the real and imaginary parts thus combining the normalized real and imaginary parts into a single tensor.\n",
        "\n",
        "   ```python\n",
        "   y_pred = torch.abs(torch.sum(y_pred, dim=1)) * tau\n",
        "   ```\n",
        "   - It computes the absolute value of the sum of the angle differences, scaled by ${\\tau}$ which calculates the scaled angle differences, corresponding to ${\\frac{\\Delta \\theta_{ij} - \\Delta \\theta_{mn}}{\\tau}}$ in the loss equation.\n",
        "\n",
        "   ```python\n",
        "   y_pred = y_pred[:, None] - y_pred[None, :]\n",
        "   ```\n",
        "   - It computes the pairwise differences between angle differences to apply the exponential function in the loss equation.\n",
        "\n",
        "   ```python\n",
        "   y_pred = (y_pred - (1 - y_true) * 1e12).view(-1)\n",
        "   ```\n",
        "   - It adjusts the pairwise differences based on ground truth labels to emphasize correct pairs by appliying a large negative value to ensure that incorrect pairs do not dominate the loss calculation.\n",
        "\n",
        "6. **Final Loss Calculation**:\n",
        "   ```python\n",
        "   zero = torch.Tensor([0]).to(y_pred.device)\n",
        "   ```\n",
        "   - It initializes a zero tensor on the same device as the predictions to ensure a zero baseline for the ${\\text{log-sum-exp}}$ calculation.\n",
        "\n",
        "   ```python\n",
        "   y_pred = torch.concat((zero, y_pred), dim=0)\n",
        "   ```\n",
        "   - It concatenates the zero tensor with the predictions and prepares the tensor for the ${\\text{log-sum-exp}}$ operation.\n",
        "\n",
        "   ```python\n",
        "   return torch.logsumexp(y_pred, dim=0)\n",
        "   ```\n",
        "   - It computes the ${\\text{log-sum-exp}}$ of the adjusted predictions to get the final loss value:\n",
        "   $${\\log \\left[ 1 + \\sum e^{\\frac{\\Delta \\theta_{ij} - \\Delta \\theta_{mn}}{\\tau}} \\right]}$$"
      ]
    },
    {
      "cell_type": "code",
      "execution_count": 9,
      "metadata": {
        "id": "ZOw5jWY2hWHX"
      },
      "outputs": [],
      "source": [
        "# Taken from https://github.com/SeanLee97/AnglE/blob/main/angle_emb/angle.py#L117\n",
        "def angle_loss(y_true: torch.Tensor, y_pred: torch.Tensor, tau: float = 1.0):\n",
        "    y_true = y_true[::2, 0]\n",
        "    y_true = (y_true[:, None] < y_true[None, :]).float()\n",
        "\n",
        "    y_pred_re, y_pred_im = torch.chunk(y_pred, 2, dim=1)\n",
        "    a = y_pred_re[::2]\n",
        "    b = y_pred_im[::2]\n",
        "    c = y_pred_re[1::2]\n",
        "    d = y_pred_im[1::2]\n",
        "\n",
        "    z = torch.sum(c**2 + d**2, dim=1, keepdim=True)\n",
        "    re = (a * c + b * d) / z\n",
        "    im = (b * c - a * d) / z\n",
        "\n",
        "    dz = torch.sum(a**2 + b**2, dim=1, keepdim=True)**0.5\n",
        "    dw = torch.sum(c**2 + d**2, dim=1, keepdim=True)**0.5\n",
        "    re /= (dz / dw)\n",
        "    im /= (dz / dw)\n",
        "\n",
        "    y_pred = torch.concat((re, im), dim=1)\n",
        "    y_pred = torch.abs(torch.sum(y_pred, dim=1)) * tau\n",
        "    y_pred = y_pred[:, None] - y_pred[None, :]\n",
        "    y_pred = (y_pred - (1 - y_true) * 1e12).view(-1)\n",
        "    zero = torch.Tensor([0]).to(y_pred.device)\n",
        "    y_pred = torch.concat((zero, y_pred), dim=0)\n",
        "    return torch.logsumexp(y_pred, dim=0)"
      ]
    },
    {
      "cell_type": "markdown",
      "metadata": {
        "id": "I2Xwuv6RUaFk"
      },
      "source": [
        "### Combination of the Loss Functions with Weights"
      ]
    },
    {
      "cell_type": "markdown",
      "metadata": {
        "id": "nsvY39IuR7-7"
      },
      "source": [
        "The `TotalLoss` class combines three different loss functions, each contributing to the total loss based on their respective weights. This allows for adjustment of the importance of each loss component in the overall training objective.\n",
        "\n",
        "<br>\n",
        "\n",
        "**Total Loss Equation**:\n",
        "\n",
        "$${\\mathcal{L}_{\\text{total}} = w_1 \\cdot \\mathcal{L}_{\\text{cosent}} + w_2 \\cdot \\mathcal{L}_{\\text{ibn}} + w_3 \\cdot \\mathcal{L}_{\\text{angle}}}$$\n",
        "\n",
        "- ${w_1}$: Weight for the CoSent loss\n",
        "- ${w_2}$: Weight for the in-batch negative loss\n",
        "- ${w_3}$: Weight for the angle loss\n",
        "\n",
        "<br>\n",
        "\n",
        "**Class Parameters**:\n",
        "  - `w1`: Weight for the CoSENT loss component, default is 1.0\n",
        "  - `w2`: Weight for the In-Batch Negatives loss component, default is 1.0\n",
        "  - `w3`: Weight for the Angle loss component, default is 1.0\n",
        "  - `cosent_tau`: Temperature parameter for the CoSENT loss, default is 20.0\n",
        "  - `ibn_tau`: Temperature parameter for the in-batch negative loss, default is 20.0\n",
        "  - `angle_tau`: Temperature parameter for the angle loss, default is 1.0"
      ]
    },
    {
      "cell_type": "code",
      "execution_count": 10,
      "metadata": {
        "id": "adhkDi1bhWHX"
      },
      "outputs": [],
      "source": [
        "class TotalLoss:\n",
        "    def __init__(self,\n",
        "                w_cosent: float = 1.0,\n",
        "                w_ibn: float = 1.0,\n",
        "                w_angle: float = 1.0,\n",
        "                cosent_tau: float = 20.0,\n",
        "                ibn_tau: float = 20.0,\n",
        "                angle_tau: float = 1.0):\n",
        "        self.w_cosent = w_cosent\n",
        "        self.w_ibn = w_ibn\n",
        "        self.w_angle = w_angle\n",
        "        self.cosent_tau = cosent_tau\n",
        "        self.ibn_tau = ibn_tau\n",
        "        self.angle_tau = angle_tau\n",
        "\n",
        "    def __call__(self, labels: torch.Tensor, outputs: torch.Tensor) -> torch.Tensor:\n",
        "        loss = 0.\n",
        "        if (self.w_cosent == 0 and self.w_ibn == 0 and self.w_angle == 0):\n",
        "            loss += default_cosine_similarity_loss(labels, outputs)\n",
        "        if self.w_cosent > 0:\n",
        "            loss += self.w_cosent * cosent_loss(labels, outputs, self.cosent_tau)\n",
        "        if self.w_ibn > 0:\n",
        "            loss += self.w_ibn * in_batch_negative_loss(labels, outputs, self.ibn_tau)\n",
        "        if self.w_angle > 0:\n",
        "            loss += self.w_angle * angle_loss(labels, outputs, self.angle_tau)\n",
        "        return loss"
      ]
    },
    {
      "cell_type": "markdown",
      "metadata": {
        "id": "bXi45wR2KFFv"
      },
      "source": [
        "## Pooler"
      ]
    },
    {
      "cell_type": "markdown",
      "metadata": {
        "id": "zz8a3YGkUaFk"
      },
      "source": [
        "The `Pooler` class provides various strategies for pooling the output of the model, allowing options for how the hidden states are aggregated to form a single representation.\n",
        "\n",
        "<br>\n",
        "\n",
        "**Pooling Strategies**:\n",
        "\n",
        "- `cls`: It uses the CLS token's representation in the last hidden state.\n",
        "- `cls_avg`: It averages the CLS token's representation with the mean of all tokens' representations.\n",
        "- `last`: It uses the representation of the last token.\n",
        "- `avg`: It averages the representations of all tokens, weighted by attention mask.\n",
        "- `max`: It uses the maximum value of the token representations, weighted by attention mask.\n",
        "- `all`: It returns the representations of all tokens.\n",
        "- `specific token index`: If an integer is passed as the pooling strategy input, it uses the representation of a specific token index.\n",
        "\n",
        "<br>\n",
        "\n",
        "**Class Parameters**:\n",
        "  - `model`: The model whose outputs need to be pooled.\n",
        "  - `pooling_strategy`: Strategy for pooling, can be one of several predefined options or a specific token index. Default is 'cls'.\n",
        "  - `padding_strategy`: Strategy for padding, can be 'left' or 'right'. Default is 'left'."
      ]
    },
    {
      "cell_type": "code",
      "execution_count": 80,
      "metadata": {
        "id": "xyFWXUQXhWHY"
      },
      "outputs": [],
      "source": [
        "class Pooler:\n",
        "    def __init__(self,\n",
        "                model,\n",
        "                tokenizer,\n",
        "                # ['cls', 'cls_avg', 'last', 'avg', 'max', 'all', 'specific token index']\n",
        "                pooling_strategy: Optional[Union[int, str]] = 'cls',\n",
        "                padding_strategy: Optional[str] = 'left'):\n",
        "        self.model = model\n",
        "        self.tokenizer = tokenizer\n",
        "        self.pooling_strategy = pooling_strategy\n",
        "        self.padding_strategy = padding_strategy\n",
        "\n",
        "    def __call__(self, inputs) -> Any:\n",
        "        if self.pooling_strategy == 'last':\n",
        "            batch_size = inputs['input_ids'].shape[0]\n",
        "            if self.padding_strategy == 'left':\n",
        "                sequence_lengths = -1\n",
        "            else:\n",
        "                sequence_lengths = inputs[\"attention_mask\"].sum(dim=1) - 1\n",
        "\n",
        "        outputs = self.model.model.encoder(**inputs).last_hidden_state\n",
        "        if self.pooling_strategy == 'cls':\n",
        "            eos_positions = (inputs[\"input_ids\"] == self.tokenizer.eos_token_id).nonzero(as_tuple=True)\n",
        "            outputs = outputs[eos_positions[0], eos_positions[1], :]\n",
        "        elif self.pooling_strategy == 'cls_avg':\n",
        "            outputs = (outputs[:, 0] + torch.mean(outputs, dim=1)) / 2.0\n",
        "        elif self.pooling_strategy == 'last':\n",
        "            outputs = outputs[torch.arange(batch_size, device=outputs.device), sequence_lengths]\n",
        "        elif self.pooling_strategy == 'avg':\n",
        "            outputs = torch.sum(\n",
        "                outputs * inputs[\"attention_mask\"][:, :, None], dim=1) / torch.sum(inputs[\"attention_mask\"])\n",
        "        elif self.pooling_strategy == 'max':\n",
        "            outputs, _ = torch.max(outputs * inputs[\"attention_mask\"][:, :, None], dim=1)\n",
        "        elif self.pooling_strategy == 'all':\n",
        "            return outputs\n",
        "        elif isinstance(self.pooling_strategy, int) or self.pooling_strategy.isnumeric():\n",
        "            return outputs[:, int(self.pooling_strategy)]\n",
        "        return outputs"
      ]
    },
    {
      "cell_type": "markdown",
      "metadata": {
        "id": "yVDqc2HoKXpU"
      },
      "source": [
        "## Trainer"
      ]
    },
    {
      "cell_type": "markdown",
      "metadata": {
        "id": "KA8qbPXoUaFl"
      },
      "source": [
        "The custom trainer method extends the `Trainer` method of `HuggingFace Transformers`. It is used to override the `compute_loss` function and include our custom losses for training."
      ]
    },
    {
      "cell_type": "code",
      "execution_count": 13,
      "metadata": {
        "id": "0RpRE7z8hWHY"
      },
      "outputs": [],
      "source": [
        "class CustomTrainer(Trainer):\n",
        "    def __init__(self, pooler: Pooler, loss_kwargs: Optional[Dict] = None, **kwargs):\n",
        "        super().__init__(**kwargs)\n",
        "        self.pooler = pooler\n",
        "        if loss_kwargs is None:\n",
        "            loss_kwargs = {}\n",
        "        self.loss_fct = TotalLoss(**loss_kwargs)\n",
        "\n",
        "    def compute_loss(self, model, inputs, return_outputs=False):\n",
        "        labels = inputs.pop(\"labels\", None)\n",
        "        outputs = self.pooler(inputs)\n",
        "        loss = self.loss_fct(labels, outputs)\n",
        "        return (loss, outputs) if return_outputs else loss"
      ]
    },
    {
      "cell_type": "markdown",
      "metadata": {
        "id": "kDsjQhxkKq1Y"
      },
      "source": [
        "## Fit"
      ]
    },
    {
      "cell_type": "markdown",
      "metadata": {
        "id": "ajV4GQVDUaFm"
      },
      "source": [
        "The `fit` function trains a model using a custom trainer and pooling mechanism. It initializes and configures the training process, including the dataset, model, tokenizer, and various training arguments."
      ]
    },
    {
      "cell_type": "code",
      "execution_count": 14,
      "metadata": {
        "id": "_41sJ58WhWHY"
      },
      "outputs": [],
      "source": [
        "def fit(train_ds,\n",
        "        model_base,\n",
        "        tokenizer_base,\n",
        "        batch_size: int = 32,\n",
        "        output_dir: Optional[str] = 'chk/new_c',\n",
        "        epochs: int = 5,\n",
        "        learning_rate: float = 1e-5,\n",
        "        warmup_steps: int = 1000,\n",
        "        logging_steps: int = 10,\n",
        "        eval_steps: Optional[int] = None,\n",
        "        save_steps: int = 100,\n",
        "        save_strategy: str = 'steps',\n",
        "        save_total_limit: int = 10,\n",
        "        gradient_accumulation_steps: int = 1,\n",
        "        fp16: Optional[bool] = None,\n",
        "        argument_kwargs: Optional[Dict] = None,\n",
        "        trainer_kwargs: Optional[Dict] = None,\n",
        "        loss_kwargs: Optional[Dict] = None):\n",
        "\n",
        "    if argument_kwargs is None:\n",
        "        argument_kwargs = {}\n",
        "    if trainer_kwargs is None:\n",
        "        trainer_kwargs = {}\n",
        "    callbacks = None\n",
        "\n",
        "    pooler = Pooler(model_base, tokenizer_base)\n",
        "\n",
        "    trainer = CustomTrainer(\n",
        "        pooler=pooler,\n",
        "        model=model_base,\n",
        "        train_dataset=train_ds,\n",
        "        loss_kwargs=loss_kwargs,\n",
        "        tokenizer=tokenizer_base,\n",
        "        args=TrainingArguments(\n",
        "            per_device_train_batch_size=batch_size,\n",
        "            gradient_accumulation_steps=gradient_accumulation_steps,\n",
        "            warmup_steps=warmup_steps,\n",
        "            num_train_epochs=epochs,\n",
        "            learning_rate=learning_rate,\n",
        "            fp16=fp16,\n",
        "            logging_steps=logging_steps,\n",
        "            save_strategy=save_strategy,\n",
        "            eval_steps=eval_steps,\n",
        "            save_steps=save_steps,\n",
        "            output_dir=output_dir,\n",
        "            save_total_limit=save_total_limit,\n",
        "            load_best_model_at_end=False,\n",
        "            ddp_find_unused_parameters=None,\n",
        "            label_names=['labels', 'seperate_ids', 'extra'],\n",
        "            **argument_kwargs,\n",
        "        ),\n",
        "        callbacks=callbacks,\n",
        "        data_collator=CustomDataCollator(\n",
        "            tokenizer_base\n",
        "        ),\n",
        "        **trainer_kwargs\n",
        "    )\n",
        "\n",
        "    trainer.train()\n",
        "    return model_base, tokenizer_base, pooler"
      ]
    },
    {
      "cell_type": "markdown",
      "metadata": {
        "id": "OpiS9-RxKuun"
      },
      "source": [
        "## Embeddings"
      ]
    },
    {
      "cell_type": "markdown",
      "metadata": {
        "id": "CovZGEUAUaFm"
      },
      "source": [
        "The `encode` function processes input text using a specified model, applies a specified pooling strategy, and converts the output to a NumPy array or in other words generates **embeddings** of text, which are fixed-size representations suitable for downstream tasks."
      ]
    },
    {
      "cell_type": "code",
      "execution_count": 15,
      "metadata": {
        "id": "SASA4fFghWHZ"
      },
      "outputs": [],
      "source": [
        "def encode(inputs: Union[List[str], Tuple[str], List[Dict], str],\n",
        "            model,\n",
        "            pooler,\n",
        "            tokenizer,\n",
        "            max_length: Optional[int] = 512,\n",
        "            to_numpy: bool = True,\n",
        "            device: Optional[Any] = 'cuda:0'):\n",
        "        if device is None:\n",
        "            device = 'cpu'\n",
        "        model.to(device)\n",
        "        model.eval()\n",
        "\n",
        "        tokens = tokenizer(\n",
        "            inputs,\n",
        "            padding='longest',\n",
        "            max_length=max_length,\n",
        "            truncation=True,\n",
        "            return_tensors='pt')\n",
        "        tokens.to(device)\n",
        "        with torch.no_grad():\n",
        "            output = pooler(tokens)\n",
        "        if to_numpy:\n",
        "            return output.float().detach().cpu().numpy()\n",
        "        return output"
      ]
    },
    {
      "cell_type": "markdown",
      "metadata": {
        "id": "npUyhInUK6qZ"
      },
      "source": [
        "# Execution"
      ]
    },
    {
      "cell_type": "markdown",
      "metadata": {
        "id": "LfHt625ovZKC"
      },
      "source": [
        "For a fair performance evaluation on how the loss function combinations affect the performance of each model, we train the base models on the **Natural Language Inference (NLI)** dataset, and test their performance by calculating Spearman's Rank Correlation Coefficient for the **Semantic Textual Similarity (STS)** tasks, and classification accuracy for the **SentEval** classification tasks. This is a method of transfer learning."
      ]
    },
    {
      "cell_type": "markdown",
      "metadata": {
        "id": "n_yqmnGuKxOH"
      },
      "source": [
        "## Data Import"
      ]
    },
    {
      "cell_type": "markdown",
      "metadata": {
        "id": "XO7puugDvZKD"
      },
      "source": [
        "### Natural Language Inference (NLI) Dataset"
      ]
    },
    {
      "cell_type": "markdown",
      "metadata": {
        "id": "Odlp_nsTvZKD"
      },
      "source": [
        "We need to download the `AllNLI` dataset provided in the **SBERT** site. It is a concatenation of two datasets `Stanford Natural Language Inference (SNLI) Corpus` and `Multi-Genre Natural Language Inference (MultiNLI) Dataset`, containing a total of around **900,000** samples."
      ]
    },
    {
      "cell_type": "code",
      "execution_count": 16,
      "metadata": {
        "id": "FTvQvFJuvZKD",
        "outputId": "bd878b4f-7751-43d0-8cd7-b87c67474985",
        "colab": {
          "base_uri": "https://localhost:8080/"
        }
      },
      "outputs": [
        {
          "output_type": "stream",
          "name": "stdout",
          "text": [
            "download AllNLI\n",
            "--2024-08-31 14:48:59--  https://sbert.net/datasets/AllNLI.tsv.gz\n",
            "Resolving sbert.net (sbert.net)... 172.67.180.145, 104.21.67.200, 2606:4700:3036::6815:43c8, ...\n",
            "Connecting to sbert.net (sbert.net)|172.67.180.145|:443... connected.\n",
            "HTTP request sent, awaiting response... 301 Moved Permanently\n",
            "Location: https://public.ukp.informatik.tu-darmstadt.de/reimers/sentence-transformers/datasets/AllNLI.tsv.gz [following]\n",
            "--2024-08-31 14:48:59--  https://public.ukp.informatik.tu-darmstadt.de/reimers/sentence-transformers/datasets/AllNLI.tsv.gz\n",
            "Resolving public.ukp.informatik.tu-darmstadt.de (public.ukp.informatik.tu-darmstadt.de)... 130.83.167.186\n",
            "Connecting to public.ukp.informatik.tu-darmstadt.de (public.ukp.informatik.tu-darmstadt.de)|130.83.167.186|:443... connected.\n",
            "HTTP request sent, awaiting response... 200 OK\n",
            "Length: 40794454 (39M) [application/octet-stream]\n",
            "Saving to: ‘AllNLI.tsv.gz’\n",
            "\n",
            "AllNLI.tsv.gz       100%[===================>]  38.90M  78.6KB/s    in 5m 21s  \n",
            "\n",
            "2024-08-31 14:54:21 (124 KB/s) - ‘AllNLI.tsv.gz’ saved [40794454/40794454]\n",
            "\n"
          ]
        }
      ],
      "source": [
        "! echo \"download AllNLI\"\n",
        "! wget https://sbert.net/datasets/AllNLI.tsv.gz"
      ]
    },
    {
      "cell_type": "code",
      "execution_count": 17,
      "metadata": {
        "id": "1UapPmeWvZKE"
      },
      "outputs": [],
      "source": [
        "def load_all_nli(exclude_neutral=True):\n",
        "    label_mapping = {\n",
        "        'entailment': 1,  # '0' (entailment)\n",
        "        'neutral': 1,\n",
        "        'contradiction': 0   # '2' (contradiction)\n",
        "    }\n",
        "    data = []\n",
        "    with gzip.open('AllNLI.tsv.gz', 'rt', encoding='utf8') as fIn:\n",
        "        reader = csv.DictReader(fIn, delimiter='\\t', quoting=csv.QUOTE_NONE)\n",
        "        for row in reader:\n",
        "            if row['split'] == 'train' and row['label'] != 'neutral':\n",
        "                if exclude_neutral and row['label'] == 'neutral':\n",
        "                    continue\n",
        "                sent1 = row['sentence1'].strip()\n",
        "                sent2 = row['sentence2'].strip()\n",
        "                data.append({'text1': sent1, 'text2': sent2, 'label': label_mapping[row['label']]})\n",
        "    return data"
      ]
    },
    {
      "cell_type": "code",
      "execution_count": 18,
      "metadata": {
        "id": "MhZYSbfDvZKE"
      },
      "outputs": [],
      "source": [
        "def preprocess_nli():\n",
        "    train_data = load_all_nli()\n",
        "    nli_dataset = {}\n",
        "    train_ds = Dataset.from_list(train_data)\n",
        "    nli_dataset['train'] = train_ds\n",
        "    nli_dataset = DatasetDict(nli_dataset)\n",
        "    ds_train = nli_dataset['train']\n",
        "    return ds_train"
      ]
    },
    {
      "cell_type": "markdown",
      "metadata": {
        "id": "vfBmu_0-6wGZ"
      },
      "source": [
        "### SentEval Datasets"
      ]
    },
    {
      "cell_type": "markdown",
      "metadata": {
        "id": "7rOK6XE6vZKE"
      },
      "source": [
        "The `SentEval` datasets **Movie Reviews (MR)**, **Customer Reviews (CR)**, **Multi-Perspective Question Answering (MPQA)** and **Subjectivity (SUBJ)** are downloaded from `HuggingFace`."
      ]
    },
    {
      "cell_type": "code",
      "execution_count": null,
      "metadata": {
        "id": "YIdRN1Euu_nd"
      },
      "outputs": [],
      "source": [
        "def get_senteval_dataset(dataset_name):\n",
        "    match dataset_name:\n",
        "        case 'CR':\n",
        "            dataset = load_dataset('rahulsikder223/SentEval-CR')\n",
        "        case 'MPQA':\n",
        "            dataset = load_dataset('rahulsikder223/SentEval-MPQA')\n",
        "        case 'MR':\n",
        "            dataset = load_dataset('rahulsikder223/SentEval-MR')\n",
        "\n",
        "            # We exclude this sentence since it gives null error...\n",
        "            dataset = concatenate_datasets([dataset.select(range(0, 231)), dataset.select(range(233, 7463))])\n",
        "        case 'SUBJ':\n",
        "            dataset = load_dataset('rahulsikder223/SentEval-SUBJ')\n",
        "\n",
        "    dataset = dataset.rename_column('sentence', 'text1')\n",
        "    return dataset"
      ]
    },
    {
      "cell_type": "code",
      "execution_count": null,
      "metadata": {
        "id": "ysILLEOe7CJr"
      },
      "outputs": [],
      "source": [
        "senteval_datasets = ['CR']#['CR', 'MPQA', 'MR', 'SUBJ']"
      ]
    },
    {
      "cell_type": "markdown",
      "metadata": {
        "id": "Qi9izGqz7rC7"
      },
      "source": [
        "### Semantic Textual Similarity (STS) Datasets"
      ]
    },
    {
      "cell_type": "markdown",
      "metadata": {
        "id": "1vr7Aw-8vZKF"
      },
      "source": [
        "The `Semantic Textual Similarity (STS)` datasets **STS-12** to **STS-16**, **STS-Benchmark** and **SICK-R** are downloaded from the `HuggingFace` website. Since all the datasets do not have a separate `train` split, we use only the `test` splits of the datasets for our evaluation."
      ]
    },
    {
      "cell_type": "code",
      "execution_count": null,
      "metadata": {
        "id": "SNHC4DNl7v7T"
      },
      "outputs": [],
      "source": [
        "def get_sts_dataset(dataset_name):\n",
        "    match dataset_name:\n",
        "        case 'STS-B':\n",
        "            dataset = load_dataset('mteb/stsbenchmark-sts', split='test')\n",
        "        case 'STS12':\n",
        "            dataset = load_dataset('mteb/sts12-sts', split='test')\n",
        "        case 'STS13':\n",
        "            dataset = load_dataset('mteb/sts13-sts', split='test')\n",
        "        case 'STS14':\n",
        "            dataset = load_dataset('mteb/sts14-sts', split='test')\n",
        "        case 'STS15':\n",
        "            dataset = load_dataset('mteb/sts15-sts', split='test')\n",
        "        case 'STS16':\n",
        "            dataset = load_dataset('mteb/sts16-sts', split='test')\n",
        "        case 'SICK-R':\n",
        "            dataset = load_dataset('mteb/sickr-sts', split='test')\n",
        "\n",
        "    dataset = dataset.rename_column('sentence1', 'text1')\n",
        "    dataset = dataset.rename_column('sentence2', 'text2')\n",
        "    dataset = dataset.rename_column('score', 'label')\n",
        "    return dataset"
      ]
    },
    {
      "cell_type": "code",
      "execution_count": null,
      "metadata": {
        "id": "zMWL7F6P8EG6"
      },
      "outputs": [],
      "source": [
        "sts_datasets = ['STS13']#['STS-B', 'STS12', 'STS13', 'STS14', 'STS15', 'STS16', 'SICK-R']"
      ]
    },
    {
      "cell_type": "markdown",
      "metadata": {
        "id": "LlAwf-fRaFIL"
      },
      "source": [
        "## Loss Function Combinations"
      ]
    },
    {
      "cell_type": "markdown",
      "metadata": {
        "id": "lGj_X7A8LAwZ"
      },
      "source": [
        "We have used the **Default Pariwise Cosine Similarity** loss function, and the 3 custom losses **CoSENT**, **In-Batch Negatives** and **Angle** along with their possible combinations in our experiments. The `get_loss_function_weights` function returns the weights of each loss function to be used in the linear loss combination. The weight value 1 is used in the case of the custom losses to denote which loss function is in use. If all weight values are 0, it means the default cosine similarity loss function is in use."
      ]
    },
    {
      "cell_type": "code",
      "execution_count": 19,
      "metadata": {
        "id": "s9vafqNKa_-t"
      },
      "outputs": [],
      "source": [
        "def get_loss_function_weights(combi):\n",
        "    match combi:\n",
        "        case 'CoSENT': return (1, 0, 0)\n",
        "        case 'In-Batch Negatives': return (0, 1, 0)\n",
        "        case 'Angle': return (0, 0, 1)\n",
        "        case 'CoSENT + In-Batch Negatives': return (1, 1, 0)\n",
        "        case 'CoSENT + Angle': return (1, 0, 1)\n",
        "        case 'In-Batch Negatives + Angle': return (0, 1, 1)\n",
        "        case 'CoSENT + In-Batch Negatives + Angle': return (1, 1, 1)\n",
        "        case 'Default Pairwise Cosine Similarity Loss': return (0, 0, 0)"
      ]
    },
    {
      "cell_type": "markdown",
      "metadata": {
        "id": "oDINIrgTvZKG"
      },
      "source": [
        "The list `loss_functions` denotes the list of possible combinations of the loss functions."
      ]
    },
    {
      "cell_type": "code",
      "execution_count": 20,
      "metadata": {
        "id": "hAEJCLCEaQ0Q"
      },
      "outputs": [],
      "source": [
        "loss_functions = [\n",
        "    # 'CoSENT',\n",
        "    # 'In-Batch Negatives',\n",
        "    # 'Angle',\n",
        "    # 'CoSENT + In-Batch Negatives',\n",
        "    # 'CoSENT + Angle',\n",
        "    # 'In-Batch Negatives + Angle',\n",
        "    'CoSENT + In-Batch Negatives + Angle',\n",
        "    # 'Default Pairwise Cosine Similarity Loss'\n",
        "]"
      ]
    },
    {
      "cell_type": "markdown",
      "metadata": {
        "id": "xszL7wkILGFh"
      },
      "source": [
        "## Language Models"
      ]
    },
    {
      "cell_type": "markdown",
      "metadata": {
        "id": "4TS2IWmBvZKG"
      },
      "source": [
        "We define the list of base language models to be used in the experiment."
      ]
    },
    {
      "cell_type": "code",
      "execution_count": null,
      "metadata": {
        "id": "UeMjLiE--JRS"
      },
      "outputs": [],
      "source": [
        "models = [\n",
        "    # 'bert-base-uncased',\n",
        "    'sentence-transformers/all-mpnet-base-v2',\n",
        "    # 'princeton-nlp/sup-simcse-roberta-large'\n",
        "]"
      ]
    },
    {
      "cell_type": "markdown",
      "metadata": {
        "id": "KciCira7LJpg"
      },
      "source": [
        "## Driver Functions"
      ]
    },
    {
      "cell_type": "markdown",
      "metadata": {
        "id": "0SOo9v8GvZKH"
      },
      "source": [
        "### Utilities"
      ]
    },
    {
      "cell_type": "markdown",
      "metadata": {
        "id": "69fC5TiVvZKH"
      },
      "source": [
        "#### Cosine Similarity"
      ]
    },
    {
      "cell_type": "markdown",
      "metadata": {
        "id": "HzSVgMtWvZKH"
      },
      "source": [
        "**Cosine Similarity** is a metric used to measure how similar two vectors are by comparing the angle between them. The cosine similarity between two vectors $\\mathbf{A}$ and $\\mathbf{B}$ is calculated using the following formula:\n",
        "\n",
        "$$\\text{Cosine Similarity} = \\cos(\\theta) = \\frac{\\mathbf{A} \\cdot \\mathbf{B}}{\\|\\mathbf{A}\\| \\|\\mathbf{B}\\|}$$"
      ]
    },
    {
      "cell_type": "code",
      "execution_count": null,
      "metadata": {
        "id": "kj-Y2cnGhWHc"
      },
      "outputs": [],
      "source": [
        "def calculate_cosine_similarity(sentence1_vec, sentence2_vec):\n",
        "    cosine_similarity = np.dot(sentence1_vec, sentence2_vec) / (np.linalg.norm(sentence1_vec) * np.linalg.norm(sentence2_vec))\n",
        "    return cosine_similarity"
      ]
    },
    {
      "cell_type": "markdown",
      "metadata": {
        "id": "LO_zqMCovZKH"
      },
      "source": [
        "#### Spearman's Rank Correlation Coefficient"
      ]
    },
    {
      "cell_type": "markdown",
      "metadata": {
        "id": "-f0M5MRKvZKI"
      },
      "source": [
        "**Spearman's Rank Correlation Coefficient**, denoted as **$\\rho$ (rho)**, is a non-parametric measure of the strength and direction of association between two ranked variables. It assesses how well the relationship between two variables can be described using a monotonic function. Unlike Pearson's correlation, Spearman's does not require the assumption of linearity and can handle ordinal data.\n",
        "\n",
        "The formula for Spearman's rank correlation coefficient is:\n",
        "     $$\\rho = 1 - \\frac{6 \\sum d_i^2}{n(n^2 - 1)}$$\n",
        "\n",
        "Where:\n",
        "\n",
        "- $n$ is the number of data points.\n",
        "- $d_i$ is the difference between the ranks of the $i$-th pair\n",
        "- $\\sum d_i^2$ is the sum of the squared differences between the ranks of corresponding values of the two variables."
      ]
    },
    {
      "cell_type": "code",
      "execution_count": null,
      "metadata": {
        "id": "XWhPIBI7AAWo"
      },
      "outputs": [],
      "source": [
        "def calculate_Spearman_rank_correlation_coefficient(scores, scores_actual):\n",
        "    sc, _ = spearmanr(scores, scores_actual)\n",
        "    return sc"
      ]
    },
    {
      "cell_type": "markdown",
      "metadata": {
        "id": "rd1aTJFJvZKI"
      },
      "source": [
        "#### Embedding Generation of Semantic Textual Similarity (STS) and SentEval Datasets"
      ]
    },
    {
      "cell_type": "markdown",
      "metadata": {
        "id": "wZQja38WvZKI"
      },
      "source": [
        "The function `generate_embeddings` generates the embeddings of the STS and SentEval datasets line-by-line"
      ]
    },
    {
      "cell_type": "code",
      "execution_count": null,
      "metadata": {
        "id": "eCuCoC-GvZKI"
      },
      "outputs": [],
      "source": [
        "def generate_embeddings(dataset, model, tokenizer, pooler, is_sts=False):\n",
        "    emb_sentence_1 = []\n",
        "    for sentence in dataset['text1']:\n",
        "        emb_sentence_1.append(encode(sentence, model, pooler, tokenizer)[0])\n",
        "    emb_sentence_1 = np.array(emb_sentence_1)\n",
        "\n",
        "    if is_sts:\n",
        "        emb_sentence_2 = []\n",
        "        for sentence in dataset['text2']:\n",
        "            emb_sentence_2.append(encode(sentence, model, pooler, tokenizer)[0])\n",
        "        emb_sentence_2 = np.array(emb_sentence_2)\n",
        "\n",
        "    return (emb_sentence_1, emb_sentence_2) if is_sts else emb_sentence_1"
      ]
    },
    {
      "cell_type": "markdown",
      "metadata": {
        "id": "OrJmXpI5vZKI"
      },
      "source": [
        "### Drivers"
      ]
    },
    {
      "cell_type": "markdown",
      "metadata": {
        "id": "_KKTpzItvZKI"
      },
      "source": [
        "#### Train NLI"
      ]
    },
    {
      "cell_type": "markdown",
      "metadata": {
        "id": "uEZhwz_xvZKJ"
      },
      "source": [
        "The `train_nli` function uses the `fit` function defined above to train the base model on the **NLI** dataset and prepares it for evaluation."
      ]
    },
    {
      "cell_type": "code",
      "execution_count": 33,
      "metadata": {
        "id": "N_fi5CejvZKJ"
      },
      "outputs": [],
      "source": [
        "def train_nli(model_base, tokenizer_base, train_ds, loss_combination):\n",
        "    model_new, tokenizer_new, pooler = fit(\n",
        "        train_ds=train_ds,\n",
        "        model_base=model_base,\n",
        "        tokenizer_base=tokenizer_base,\n",
        "        output_dir='chk/c',\n",
        "        batch_size=30,\n",
        "        epochs=5,\n",
        "        learning_rate=2e-5,\n",
        "        save_steps=0,\n",
        "        eval_steps=100,\n",
        "        warmup_steps=0,\n",
        "        gradient_accumulation_steps=1,\n",
        "        loss_kwargs={\n",
        "            'w_cosent': loss_combination['w_cosent'],\n",
        "            'w_ibn': loss_combination['w_ibn'],\n",
        "            'w_angle': loss_combination['w_angle'],\n",
        "            'cosent_tau': 20,\n",
        "            'ibn_tau': 20,\n",
        "            'angle_tau': 1.0\n",
        "        },\n",
        "        fp16=True,\n",
        "        logging_steps=1000\n",
        "    )\n",
        "\n",
        "    return (model_new, tokenizer_new, pooler)"
      ]
    },
    {
      "cell_type": "markdown",
      "metadata": {
        "id": "4ji4XnOGvZKJ"
      },
      "source": [
        "#### Test STS"
      ]
    },
    {
      "cell_type": "markdown",
      "metadata": {
        "id": "i-AVBMXrvZKJ"
      },
      "source": [
        "Once the model is trained on NLI, the function `test_sts` is used to generate embeddings of the sentence pairs of the STS datasets, calculate cosine similarity between the sentence embedding pairs and finally calculate the Spearman's Rank Correlation Coefficient, to evaluate the performance of the model, trained using a loss function combination."
      ]
    },
    {
      "cell_type": "code",
      "execution_count": null,
      "metadata": {
        "id": "mk-LYMauvZKJ"
      },
      "outputs": [],
      "source": [
        "def test_sts(dataset, model, tokenizer, pooler):\n",
        "    emb_sentence_1, emb_sentence_2 = generate_embeddings(dataset, model, tokenizer, pooler, is_sts=True)\n",
        "\n",
        "    cos_score = []\n",
        "    for i in range(emb_sentence_1.shape[0]):\n",
        "        cos_score.append(calculate_cosine_similarity(emb_sentence_1[i], emb_sentence_2[i]))\n",
        "\n",
        "    spearman = calculate_Spearman_rank_correlation_coefficient(cos_score, dataset['label'])\n",
        "    return spearman"
      ]
    },
    {
      "cell_type": "markdown",
      "metadata": {
        "id": "oLgwuaR4vZKJ"
      },
      "source": [
        "#### Test SentEval"
      ]
    },
    {
      "cell_type": "markdown",
      "metadata": {
        "id": "u69FnAYsvZKJ"
      },
      "source": [
        "Once the model is trained on NLI, the function `test_senteval` is used to generate embeddings of the sentences in the training and testing sets of the SentEval datasets, a **Logistic Regression** classifier is used to fit the train set embeddings with the sentiment or subjectivity labels (0 or 1), and finally the classification accuracy is obtained from the test set predictions by the classifier."
      ]
    },
    {
      "cell_type": "code",
      "execution_count": null,
      "metadata": {
        "id": "FZKCGdcFvZKK"
      },
      "outputs": [],
      "source": [
        "def test_senteval(dataset, model, tokenizer, pooler):\n",
        "    emb_sentence_train = generate_embeddings(dataset['train'], model, tokenizer, pooler)\n",
        "    emb_sentence_test = generate_embeddings(dataset['test'], model, tokenizer, pooler)\n",
        "\n",
        "    lr = LogisticRegression(max_iter=10000)\n",
        "    lr.fit(emb_sentence_train, dataset['train']['label'])\n",
        "    accuracy_score = lr.score(emb_sentence_test, dataset['test']['label'])\n",
        "    return accuracy_score"
      ]
    },
    {
      "cell_type": "markdown",
      "metadata": {
        "id": "7N2ACg8MvZKK"
      },
      "source": [
        "#### Main Driver"
      ]
    },
    {
      "cell_type": "markdown",
      "metadata": {
        "id": "SyM4lq-tvZKK"
      },
      "source": [
        "This is the main **driver function** or **training loop** which performs training of each model, using all the combinations of loss functions on NLI, then evaluates the model's performance on STS and SentEval datasets."
      ]
    },
    {
      "cell_type": "code",
      "execution_count": null,
      "metadata": {
        "id": "WXHvhKHMvZKK"
      },
      "outputs": [],
      "source": [
        "def driver():\n",
        "    results_matrix_sts = []\n",
        "    results_matrix_senteval = []\n",
        "\n",
        "    for model in models:\n",
        "        # Model Preparation...\n",
        "        tokenizer_base = AutoTokenizer.from_pretrained(model)\n",
        "        model_base = AutoModel.from_pretrained(model)\n",
        "\n",
        "        results_matrix_loss_sts = []\n",
        "        results_matrix_loss_senteval = []\n",
        "        for loss in loss_functions:\n",
        "            # Loss Functions Combination...\n",
        "            loss_combination = {}\n",
        "            loss_combination['w_cosent'], loss_combination['w_ibn'], loss_combination['w_angle'] = get_loss_function_weights(loss)\n",
        "\n",
        "            # Train model on NLI using loss combination...\n",
        "            nli_dataset = preprocess_nli()\n",
        "            model_ft, tokenizer_ft, pooler_ft = train_nli(model_base, tokenizer_base, nli_dataset, loss_combination)\n",
        "\n",
        "            # Test model on STS Datasets...\n",
        "            results_matrix_dataset_sts = []\n",
        "            for sts_dataset in sts_datasets:\n",
        "                dataset = get_sts_dataset(sts_dataset)\n",
        "                spearman = test_sts(dataset, model_ft, tokenizer_ft, pooler_ft)\n",
        "                results_matrix_dataset_sts.append(spearman)\n",
        "            results_matrix_loss_sts.append(results_matrix_dataset_sts)\n",
        "\n",
        "            # Test model on SentEval Datasets...\n",
        "            results_matrix_dataset_senteval = []\n",
        "            for senteval_dataset in senteval_datasets:\n",
        "                dataset = get_senteval_dataset(senteval_dataset)\n",
        "                accuracy_score = test_senteval(dataset, model_ft, tokenizer_ft, pooler_ft)\n",
        "                results_matrix_dataset_senteval.append(accuracy_score)\n",
        "            results_matrix_loss_senteval.append(results_matrix_dataset_senteval)\n",
        "\n",
        "        results_matrix_sts.append(results_matrix_loss_sts)\n",
        "        results_matrix_senteval.append(results_matrix_loss_senteval)\n",
        "\n",
        "    return (results_matrix_sts, results_matrix_senteval)"
      ]
    },
    {
      "cell_type": "markdown",
      "metadata": {
        "id": "YOkPXS5_LXM5"
      },
      "source": [
        "### Running"
      ]
    },
    {
      "cell_type": "code",
      "execution_count": null,
      "metadata": {
        "colab": {
          "referenced_widgets": [
            "3c39d09ead28410ab330d527689333a7",
            "92bc0806e63d4676a95ceb8ced836379",
            "9cedaa6232a645a1801ec485ed696755",
            "782d4a346c9c4cbc93dc9b423f35a869",
            "8e0f5df6c055450dac7014ac1e52dd4c",
            "d8f1cd5eb0a44499ab7220f87011bf8e",
            "675515996854469590f380232beea0ac",
            "6e2f676422d348d3a5bde1f7423fd4fb",
            "6c25f2f6b4ee4b98bc07cac1efa1ad3c"
          ]
        },
        "id": "yFaFIQO6vZKK",
        "outputId": "f9799201-16ab-4a83-adb7-0161f5d1c4df"
      },
      "outputs": [
        {
          "name": "stderr",
          "output_type": "stream",
          "text": [
            "/usr/local/lib/python3.10/dist-packages/transformers/tokenization_utils_base.py:1601: FutureWarning: `clean_up_tokenization_spaces` was not set. It will be set to `True` by default. This behavior will be depracted in transformers v4.45, and will be then set to `False` by default. For more details check this issue: https://github.com/huggingface/transformers/issues/31884\n",
            "  warnings.warn(\n"
          ]
        },
        {
          "data": {
            "application/vnd.jupyter.widget-view+json": {
              "model_id": "3c39d09ead28410ab330d527689333a7",
              "version_major": 2,
              "version_minor": 0
            },
            "text/plain": [
              "Map (num_proc=8):   0%|          | 0/628405 [00:00<?, ? examples/s]"
            ]
          },
          "metadata": {},
          "output_type": "display_data"
        },
        {
          "name": "stderr",
          "output_type": "stream",
          "text": [
            "You're using a MPNetTokenizerFast tokenizer. Please note that with a fast tokenizer, using the `__call__` method is faster than using a method to encode the text followed by a call to the `pad` method to get a padded encoding.\n"
          ]
        },
        {
          "data": {
            "text/html": [
              "\n",
              "    <div>\n",
              "      \n",
              "      <progress value='39280' max='39280' style='width:300px; height:20px; vertical-align: middle;'></progress>\n",
              "      [39280/39280 1:26:46, Epoch 5/5]\n",
              "    </div>\n",
              "    <table border=\"1\" class=\"dataframe\">\n",
              "  <thead>\n",
              " <tr style=\"text-align: left;\">\n",
              "      <th>Step</th>\n",
              "      <th>Training Loss</th>\n",
              "    </tr>\n",
              "  </thead>\n",
              "  <tbody>\n",
              "    <tr>\n",
              "      <td>1000</td>\n",
              "      <td>14.005900</td>\n",
              "    </tr>\n",
              "    <tr>\n",
              "      <td>2000</td>\n",
              "      <td>13.691000</td>\n",
              "    </tr>\n",
              "    <tr>\n",
              "      <td>3000</td>\n",
              "      <td>13.535600</td>\n",
              "    </tr>\n",
              "    <tr>\n",
              "      <td>4000</td>\n",
              "      <td>13.451500</td>\n",
              "    </tr>\n",
              "    <tr>\n",
              "      <td>5000</td>\n",
              "      <td>13.356000</td>\n",
              "    </tr>\n",
              "    <tr>\n",
              "      <td>6000</td>\n",
              "      <td>13.305400</td>\n",
              "    </tr>\n",
              "    <tr>\n",
              "      <td>7000</td>\n",
              "      <td>13.279200</td>\n",
              "    </tr>\n",
              "    <tr>\n",
              "      <td>8000</td>\n",
              "      <td>13.209800</td>\n",
              "    </tr>\n",
              "    <tr>\n",
              "      <td>9000</td>\n",
              "      <td>12.696100</td>\n",
              "    </tr>\n",
              "    <tr>\n",
              "      <td>10000</td>\n",
              "      <td>12.672900</td>\n",
              "    </tr>\n",
              "    <tr>\n",
              "      <td>11000</td>\n",
              "      <td>12.670800</td>\n",
              "    </tr>\n",
              "    <tr>\n",
              "      <td>12000</td>\n",
              "      <td>12.636400</td>\n",
              "    </tr>\n",
              "    <tr>\n",
              "      <td>13000</td>\n",
              "      <td>12.642400</td>\n",
              "    </tr>\n",
              "    <tr>\n",
              "      <td>14000</td>\n",
              "      <td>12.644200</td>\n",
              "    </tr>\n",
              "    <tr>\n",
              "      <td>15000</td>\n",
              "      <td>12.671100</td>\n",
              "    </tr>\n",
              "    <tr>\n",
              "      <td>16000</td>\n",
              "      <td>12.481100</td>\n",
              "    </tr>\n",
              "    <tr>\n",
              "      <td>17000</td>\n",
              "      <td>11.971200</td>\n",
              "    </tr>\n",
              "    <tr>\n",
              "      <td>18000</td>\n",
              "      <td>11.957400</td>\n",
              "    </tr>\n",
              "    <tr>\n",
              "      <td>19000</td>\n",
              "      <td>12.017500</td>\n",
              "    </tr>\n",
              "    <tr>\n",
              "      <td>20000</td>\n",
              "      <td>11.988100</td>\n",
              "    </tr>\n",
              "    <tr>\n",
              "      <td>21000</td>\n",
              "      <td>11.992000</td>\n",
              "    </tr>\n",
              "    <tr>\n",
              "      <td>22000</td>\n",
              "      <td>12.026900</td>\n",
              "    </tr>\n",
              "    <tr>\n",
              "      <td>23000</td>\n",
              "      <td>12.006400</td>\n",
              "    </tr>\n",
              "    <tr>\n",
              "      <td>24000</td>\n",
              "      <td>11.680000</td>\n",
              "    </tr>\n",
              "    <tr>\n",
              "      <td>25000</td>\n",
              "      <td>11.339100</td>\n",
              "    </tr>\n",
              "    <tr>\n",
              "      <td>26000</td>\n",
              "      <td>11.398200</td>\n",
              "    </tr>\n",
              "    <tr>\n",
              "      <td>27000</td>\n",
              "      <td>11.382800</td>\n",
              "    </tr>\n",
              "    <tr>\n",
              "      <td>28000</td>\n",
              "      <td>11.367400</td>\n",
              "    </tr>\n",
              "    <tr>\n",
              "      <td>29000</td>\n",
              "      <td>11.393800</td>\n",
              "    </tr>\n",
              "    <tr>\n",
              "      <td>30000</td>\n",
              "      <td>11.401000</td>\n",
              "    </tr>\n",
              "    <tr>\n",
              "      <td>31000</td>\n",
              "      <td>11.396800</td>\n",
              "    </tr>\n",
              "    <tr>\n",
              "      <td>32000</td>\n",
              "      <td>11.077000</td>\n",
              "    </tr>\n",
              "    <tr>\n",
              "      <td>33000</td>\n",
              "      <td>10.883000</td>\n",
              "    </tr>\n",
              "    <tr>\n",
              "      <td>34000</td>\n",
              "      <td>10.920000</td>\n",
              "    </tr>\n",
              "    <tr>\n",
              "      <td>35000</td>\n",
              "      <td>10.852800</td>\n",
              "    </tr>\n",
              "    <tr>\n",
              "      <td>36000</td>\n",
              "      <td>10.956400</td>\n",
              "    </tr>\n",
              "    <tr>\n",
              "      <td>37000</td>\n",
              "      <td>10.891100</td>\n",
              "    </tr>\n",
              "    <tr>\n",
              "      <td>38000</td>\n",
              "      <td>10.799200</td>\n",
              "    </tr>\n",
              "    <tr>\n",
              "      <td>39000</td>\n",
              "      <td>10.822300</td>\n",
              "    </tr>\n",
              "  </tbody>\n",
              "</table><p>"
            ],
            "text/plain": [
              "<IPython.core.display.HTML object>"
            ]
          },
          "metadata": {},
          "output_type": "display_data"
        },
        {
          "data": {
            "application/vnd.jupyter.widget-view+json": {
              "model_id": "92bc0806e63d4676a95ceb8ced836379",
              "version_major": 2,
              "version_minor": 0
            },
            "text/plain": [
              "Downloading readme:   0%|          | 0.00/22.0 [00:00<?, ?B/s]"
            ]
          },
          "metadata": {},
          "output_type": "display_data"
        },
        {
          "data": {
            "application/vnd.jupyter.widget-view+json": {
              "model_id": "9cedaa6232a645a1801ec485ed696755",
              "version_major": 2,
              "version_minor": 0
            },
            "text/plain": [
              "Downloading data:   0%|          | 0.00/60.2k [00:00<?, ?B/s]"
            ]
          },
          "metadata": {},
          "output_type": "display_data"
        },
        {
          "data": {
            "application/vnd.jupyter.widget-view+json": {
              "model_id": "782d4a346c9c4cbc93dc9b423f35a869",
              "version_major": 2,
              "version_minor": 0
            },
            "text/plain": [
              "Generating test split:   0%|          | 0/1500 [00:00<?, ? examples/s]"
            ]
          },
          "metadata": {},
          "output_type": "display_data"
        },
        {
          "data": {
            "application/vnd.jupyter.widget-view+json": {
              "model_id": "8e0f5df6c055450dac7014ac1e52dd4c",
              "version_major": 2,
              "version_minor": 0
            },
            "text/plain": [
              "Downloading readme:   0%|          | 0.00/639 [00:00<?, ?B/s]"
            ]
          },
          "metadata": {},
          "output_type": "display_data"
        },
        {
          "data": {
            "application/vnd.jupyter.widget-view+json": {
              "model_id": "d8f1cd5eb0a44499ab7220f87011bf8e",
              "version_major": 2,
              "version_minor": 0
            },
            "text/plain": [
              "Downloading data:   0%|          | 0.00/171k [00:00<?, ?B/s]"
            ]
          },
          "metadata": {},
          "output_type": "display_data"
        },
        {
          "data": {
            "application/vnd.jupyter.widget-view+json": {
              "model_id": "675515996854469590f380232beea0ac",
              "version_major": 2,
              "version_minor": 0
            },
            "text/plain": [
              "Downloading data:   0%|          | 0.00/75.2k [00:00<?, ?B/s]"
            ]
          },
          "metadata": {},
          "output_type": "display_data"
        },
        {
          "data": {
            "application/vnd.jupyter.widget-view+json": {
              "model_id": "6e2f676422d348d3a5bde1f7423fd4fb",
              "version_major": 2,
              "version_minor": 0
            },
            "text/plain": [
              "Generating train split:   0%|          | 0/2642 [00:00<?, ? examples/s]"
            ]
          },
          "metadata": {},
          "output_type": "display_data"
        },
        {
          "data": {
            "application/vnd.jupyter.widget-view+json": {
              "model_id": "6c25f2f6b4ee4b98bc07cac1efa1ad3c",
              "version_major": 2,
              "version_minor": 0
            },
            "text/plain": [
              "Generating test split:   0%|          | 0/1133 [00:00<?, ? examples/s]"
            ]
          },
          "metadata": {},
          "output_type": "display_data"
        }
      ],
      "source": [
        "results_matrix_sts, results_matrix_senteval = driver()"
      ]
    },
    {
      "cell_type": "markdown",
      "metadata": {
        "id": "vmaDdsylLR8g"
      },
      "source": [
        "### Showing the Results"
      ]
    },
    {
      "cell_type": "code",
      "execution_count": null,
      "metadata": {
        "colab": {
          "base_uri": "https://localhost:8080/"
        },
        "id": "i0B-t9C2LVCh",
        "outputId": "b05b7773-f6ab-4931-f975-2ea7b46dc417"
      },
      "outputs": [
        {
          "name": "stdout",
          "output_type": "stream",
          "text": [
            "STS Spearman Result:  [[[0.8401565386924192]]]\n",
            "SentEval Accuracy Result:  [[[0.9285083848190644]]]\n"
          ]
        }
      ],
      "source": [
        "print(\"STS Spearman Result: \", results_matrix_sts)\n",
        "print(\"SentEval Accuracy Result: \", results_matrix_senteval)"
      ]
    },
    {
      "cell_type": "markdown",
      "metadata": {
        "id": "6m5rbe2hLZeo"
      },
      "source": [
        "### Saving the Results"
      ]
    },
    {
      "cell_type": "code",
      "execution_count": null,
      "metadata": {
        "id": "YdDsIykFAAWt"
      },
      "outputs": [],
      "source": [
        "with open('BERT_SentEval_Results.npy', 'wb') as f:\n",
        "    np.save(f, results_matrix_senteval)"
      ]
    },
    {
      "cell_type": "code",
      "execution_count": null,
      "metadata": {
        "id": "ZAJd7esKAAWu"
      },
      "outputs": [],
      "source": [
        "with open('BERT_STS_Results.npy', 'wb') as f:\n",
        "    np.save(f, results_matrix_sts)"
      ]
    },
    {
      "cell_type": "markdown",
      "source": [
        "# Generation"
      ],
      "metadata": {
        "id": "zqGPR288_V9E"
      }
    },
    {
      "cell_type": "code",
      "source": [
        "model = 'facebook/bart-large'\n",
        "tokenizer_base = AutoTokenizer.from_pretrained(model)\n",
        "model_base = AutoModelForSeq2SeqLM.from_pretrained(model)"
      ],
      "metadata": {
        "colab": {
          "base_uri": "https://localhost:8080/",
          "height": 264,
          "referenced_widgets": [
            "01eb64f510924f61bbcb075ce80f8814",
            "e0928efeae534b34b8fe3174a21fe646",
            "d465c696c09a4b90bc7ad26e4dd3814d",
            "6bc72845d7b844a5b21763f1c8d18907",
            "70d3e7e49de7460dbb62c3494026a7de",
            "4e10b1eb185c41868bb8194c0d702640",
            "3eca42a325d549aaabb547acfb15bded",
            "b466b11140c246308a5f8198593fb458",
            "e246cd28935049338fb6af6eff6336de",
            "44fc6c7cb4fa40fbbc9a2d5d2c7bdc5d",
            "b8c5c19ae39e44c0b9c9e614e94af242",
            "5d5e00d1dd724c5daca01406022197f5",
            "1717b2462e324d45bb9556284021e4a8",
            "5c894c54370e46e4802e8a8903de3d43",
            "dff82463328742d8965e9c66d6ddb336",
            "4e030dd6f9624d6f859e2a6070f3e160",
            "e14bb38123da4c92848150ae2f23ffd9",
            "45533dfe585e48f3a7a27cf23a70f111",
            "13884867caf04fa1be4e02809bb8cfd4",
            "e47eceadc5b5438790eb883bf5cb9fad",
            "daa48e344bbb45e982fff2704d689599",
            "61e21ab50a92451bba8ad5a8a44acd81",
            "3ab7e6d48a2f44aa874a959b6869b443",
            "d8bef74c05504155b9eab350d0698ba4",
            "e85c19dec3d042ddb9bc9c6be3615c8f",
            "616da368c1704985851ad01c232d27ad",
            "3038a4c86bd14c8ea6be30169af2d554",
            "24eff8d2905848bb9c0f0704e21c1f1a",
            "383b2897bb69427199db027cfcfabd9d",
            "c99512bc146a461bbfac11e900a597ee",
            "84186d44d1c34d10a0aea4077e473318",
            "f81a2f01ee334ba9ac9ca76e444c4007",
            "8421710a002442a8ac8d026d92edbd8d",
            "8b2d0ec0743544a8a59107d9cb52451f",
            "e6f1a2352e42461c8b5d45a7b479befa",
            "98995c8470a646e09c10d858b9983c0e",
            "530de5a507fd475fa5f197f961818ca7",
            "ed0cf6f22bfa4068b49376cc9babcd0a",
            "5ebebe73f94d4d3a81bc5fcd23d109ca",
            "98bcf847b81744dab392d90558958a81",
            "0ae705d8a0ae4415887d11d2b5c51f4f",
            "e49bd42b1d9f463d8da4f8ee519379b9",
            "4822ef94c99346c0aec4db81b3165903",
            "c0c069422003427fbbae1e21277c2f1d",
            "03fbc660f3514e348060409c04b6edf6",
            "32f340ebe42e423f8997b8bad3c7584e",
            "2f55dff4eceb419a885a019faaf16ae5",
            "d580dee7f0004ad687705b5015dbc0c6",
            "e10b3bc610944af58fbfe73da166d40c",
            "b6d4758365644772a03d9a8aed3df201",
            "dd26a7490c51444c9b4edcabb053ada0",
            "c454be57883544b6bf5011cc0946cc83",
            "c71c5b27d0214cf097758d04f9e2c9ad",
            "91546d32d3d042e382c203b4da0621ff",
            "cbeac183831b4dc99b8e4d48338f94a5",
            "33383de753a84a54b6a50f850d60cd97",
            "b5ebe527fe2c45ff8505dbd825aa750a",
            "4ebf9b799984409281d77b52407e4ccd",
            "331e05d649b14c9ebbf704d1c2ce4fd4",
            "90a6659a5d254c4a80344a61b3b3d87a",
            "4123ed0a4e404be0a0a4dd641cec1f3c",
            "17db68db855845888464526bf9acf1f1",
            "9e79a7ec47034893b92f42834aa15e1c",
            "6a7e6a0ed52b4de6886eb0430d3bf403",
            "fc7a1305dcac48b681bd9ab3bb85c61d",
            "799ccf5c73a24292957d3ee7e604bf97"
          ]
        },
        "id": "53jh-cc-_SIS",
        "outputId": "a2d7be54-44d5-4685-9491-9af90d73f849"
      },
      "execution_count": 22,
      "outputs": [
        {
          "output_type": "display_data",
          "data": {
            "text/plain": [
              "tokenizer_config.json:   0%|          | 0.00/26.0 [00:00<?, ?B/s]"
            ],
            "application/vnd.jupyter.widget-view+json": {
              "version_major": 2,
              "version_minor": 0,
              "model_id": "01eb64f510924f61bbcb075ce80f8814"
            }
          },
          "metadata": {}
        },
        {
          "output_type": "display_data",
          "data": {
            "text/plain": [
              "config.json:   0%|          | 0.00/1.63k [00:00<?, ?B/s]"
            ],
            "application/vnd.jupyter.widget-view+json": {
              "version_major": 2,
              "version_minor": 0,
              "model_id": "5d5e00d1dd724c5daca01406022197f5"
            }
          },
          "metadata": {}
        },
        {
          "output_type": "display_data",
          "data": {
            "text/plain": [
              "vocab.json:   0%|          | 0.00/899k [00:00<?, ?B/s]"
            ],
            "application/vnd.jupyter.widget-view+json": {
              "version_major": 2,
              "version_minor": 0,
              "model_id": "3ab7e6d48a2f44aa874a959b6869b443"
            }
          },
          "metadata": {}
        },
        {
          "output_type": "display_data",
          "data": {
            "text/plain": [
              "merges.txt:   0%|          | 0.00/456k [00:00<?, ?B/s]"
            ],
            "application/vnd.jupyter.widget-view+json": {
              "version_major": 2,
              "version_minor": 0,
              "model_id": "8b2d0ec0743544a8a59107d9cb52451f"
            }
          },
          "metadata": {}
        },
        {
          "output_type": "display_data",
          "data": {
            "text/plain": [
              "tokenizer.json:   0%|          | 0.00/1.36M [00:00<?, ?B/s]"
            ],
            "application/vnd.jupyter.widget-view+json": {
              "version_major": 2,
              "version_minor": 0,
              "model_id": "03fbc660f3514e348060409c04b6edf6"
            }
          },
          "metadata": {}
        },
        {
          "output_type": "stream",
          "name": "stderr",
          "text": [
            "/usr/local/lib/python3.10/dist-packages/transformers/tokenization_utils_base.py:1601: FutureWarning: `clean_up_tokenization_spaces` was not set. It will be set to `True` by default. This behavior will be depracted in transformers v4.45, and will be then set to `False` by default. For more details check this issue: https://github.com/huggingface/transformers/issues/31884\n",
            "  warnings.warn(\n"
          ]
        },
        {
          "output_type": "display_data",
          "data": {
            "text/plain": [
              "pytorch_model.bin:   0%|          | 0.00/1.02G [00:00<?, ?B/s]"
            ],
            "application/vnd.jupyter.widget-view+json": {
              "version_major": 2,
              "version_minor": 0,
              "model_id": "33383de753a84a54b6a50f850d60cd97"
            }
          },
          "metadata": {}
        }
      ]
    },
    {
      "cell_type": "code",
      "source": [
        "nli_dataset = preprocess_nli()\n",
        "train_ds = nli_dataset.shuffle().map(CustomDataTokenizer(tokenizer_base), num_proc=8)"
      ],
      "metadata": {
        "colab": {
          "base_uri": "https://localhost:8080/",
          "height": 49,
          "referenced_widgets": [
            "f604831b923d4bcd93df90ebffc2de61",
            "c12aeed457a34bfca01d25382d1d04ab",
            "524ee8d032e442fba2f86cb2e62ed069",
            "3a0035e375d54b7683eb775b863bec49",
            "e52ff0101a47400d824d8a0c3d1f45cc",
            "5bd51aed18cc4eb9bfb6967dfb1ca940",
            "e442960eb3384c378305c6c2ab103cd4",
            "50ae37658cba42f2800e93997761fa73",
            "2d84061f5df24f9fb4e7eab160abd1f3",
            "9059c2050aad4274950c95f6e9a428cb",
            "e5fd5d25bdaf488b981499d8b530ff48"
          ]
        },
        "id": "B5Dt25oyCE1d",
        "outputId": "5e531ba6-d0a0-4b55-aedb-a5dff49ee23c"
      },
      "execution_count": 27,
      "outputs": [
        {
          "output_type": "display_data",
          "data": {
            "text/plain": [
              "Map (num_proc=8):   0%|          | 0/628405 [00:00<?, ? examples/s]"
            ],
            "application/vnd.jupyter.widget-view+json": {
              "version_major": 2,
              "version_minor": 0,
              "model_id": "f604831b923d4bcd93df90ebffc2de61"
            }
          },
          "metadata": {}
        }
      ]
    },
    {
      "cell_type": "code",
      "source": [
        "loss_combination = {}\n",
        "loss_combination['w_cosent'], loss_combination['w_ibn'], loss_combination['w_angle'] = get_loss_function_weights(loss_functions[0])\n",
        "model_ft, tokenizer_ft, pooler_ft = train_nli(model_base, tokenizer_base, train_ds, loss_combination)"
      ],
      "metadata": {
        "colab": {
          "base_uri": "https://localhost:8080/",
          "height": 425
        },
        "id": "u1Tg47mR_rwk",
        "outputId": "eacb5418-9d77-4021-ba70-aa37df459e51"
      },
      "execution_count": 81,
      "outputs": [
        {
          "output_type": "stream",
          "name": "stderr",
          "text": [
            "/usr/local/lib/python3.10/dist-packages/accelerate/accelerator.py:488: FutureWarning: `torch.cuda.amp.GradScaler(args...)` is deprecated. Please use `torch.amp.GradScaler('cuda', args...)` instead.\n",
            "  self.scaler = torch.cuda.amp.GradScaler(**kwargs)\n"
          ]
        },
        {
          "output_type": "stream",
          "name": "stdout",
          "text": [
            "torch.Size([8, 1024])\n",
            "y_true:  torch.Size([8, 1])\n",
            "y_pred:  torch.Size([8, 1024])\n"
          ]
        },
        {
          "output_type": "display_data",
          "data": {
            "text/plain": [
              "<IPython.core.display.HTML object>"
            ],
            "text/html": [
              "\n",
              "    <div>\n",
              "      \n",
              "      <progress value='5' max='5' style='width:300px; height:20px; vertical-align: middle;'></progress>\n",
              "      [5/5 00:35, Epoch 5/5]\n",
              "    </div>\n",
              "    <table border=\"1\" class=\"dataframe\">\n",
              "  <thead>\n",
              " <tr style=\"text-align: left;\">\n",
              "      <th>Step</th>\n",
              "      <th>Training Loss</th>\n",
              "    </tr>\n",
              "  </thead>\n",
              "  <tbody>\n",
              "  </tbody>\n",
              "</table><p>"
            ]
          },
          "metadata": {}
        },
        {
          "output_type": "stream",
          "name": "stdout",
          "text": [
            "torch.Size([8, 1024])\n",
            "y_true:  torch.Size([8, 1])\n",
            "y_pred:  torch.Size([8, 1024])\n",
            "torch.Size([8, 1024])\n",
            "y_true:  torch.Size([8, 1])\n",
            "y_pred:  torch.Size([8, 1024])\n",
            "torch.Size([8, 1024])\n",
            "y_true:  torch.Size([8, 1])\n",
            "y_pred:  torch.Size([8, 1024])\n",
            "torch.Size([8, 1024])\n",
            "y_true:  torch.Size([8, 1])\n",
            "y_pred:  torch.Size([8, 1024])\n"
          ]
        },
        {
          "output_type": "stream",
          "name": "stderr",
          "text": [
            "Some non-default generation parameters are set in the model config. These should go into a GenerationConfig file (https://huggingface.co/docs/transformers/generation_strategies#save-a-custom-decoding-strategy-with-your-model) instead. This warning will be raised to an exception in v4.41.\n",
            "Non-default generation parameters: {'early_stopping': True, 'num_beams': 4, 'no_repeat_ngram_size': 3, 'forced_bos_token_id': 0, 'forced_eos_token_id': 2}\n"
          ]
        }
      ]
    }
  ],
  "metadata": {
    "accelerator": "GPU",
    "colab": {
      "collapsed_sections": [
        "8HauEi1vUr_l",
        "FWJYPqj-JTYq",
        "oKd63ogoJZYp",
        "yDR2QBJiKnBf",
        "Wf43nyBfJpUi",
        "OkSrRaOJUaFj",
        "7gf8LPyIiW4Y",
        "4kVKFuNSh8ri",
        "KzGhQzFHiEow",
        "I2Xwuv6RUaFk",
        "bXi45wR2KFFv",
        "yVDqc2HoKXpU",
        "kDsjQhxkKq1Y",
        "OpiS9-RxKuun",
        "npUyhInUK6qZ",
        "n_yqmnGuKxOH",
        "XO7puugDvZKD",
        "vfBmu_0-6wGZ",
        "Qi9izGqz7rC7",
        "LlAwf-fRaFIL",
        "xszL7wkILGFh",
        "KciCira7LJpg",
        "0SOo9v8GvZKH",
        "69fC5TiVvZKH",
        "LO_zqMCovZKH",
        "rd1aTJFJvZKI",
        "OrJmXpI5vZKI",
        "_KKTpzItvZKI",
        "4ji4XnOGvZKJ",
        "oLgwuaR4vZKJ",
        "7N2ACg8MvZKK",
        "YOkPXS5_LXM5",
        "vmaDdsylLR8g",
        "6m5rbe2hLZeo"
      ],
      "gpuType": "T4",
      "machine_shape": "hm",
      "provenance": []
    },
    "kernelspec": {
      "display_name": "Python 3 (ipykernel)",
      "language": "python",
      "name": "python3"
    },
    "language_info": {
      "codemirror_mode": {
        "name": "ipython",
        "version": 3
      },
      "file_extension": ".py",
      "mimetype": "text/x-python",
      "name": "python",
      "nbconvert_exporter": "python",
      "pygments_lexer": "ipython3",
      "version": "3.10.12"
    },
    "widgets": {
      "application/vnd.jupyter.widget-state+json": {
        "01eb64f510924f61bbcb075ce80f8814": {
          "model_module": "@jupyter-widgets/controls",
          "model_name": "HBoxModel",
          "model_module_version": "1.5.0",
          "state": {
            "_dom_classes": [],
            "_model_module": "@jupyter-widgets/controls",
            "_model_module_version": "1.5.0",
            "_model_name": "HBoxModel",
            "_view_count": null,
            "_view_module": "@jupyter-widgets/controls",
            "_view_module_version": "1.5.0",
            "_view_name": "HBoxView",
            "box_style": "",
            "children": [
              "IPY_MODEL_e0928efeae534b34b8fe3174a21fe646",
              "IPY_MODEL_d465c696c09a4b90bc7ad26e4dd3814d",
              "IPY_MODEL_6bc72845d7b844a5b21763f1c8d18907"
            ],
            "layout": "IPY_MODEL_70d3e7e49de7460dbb62c3494026a7de"
          }
        },
        "e0928efeae534b34b8fe3174a21fe646": {
          "model_module": "@jupyter-widgets/controls",
          "model_name": "HTMLModel",
          "model_module_version": "1.5.0",
          "state": {
            "_dom_classes": [],
            "_model_module": "@jupyter-widgets/controls",
            "_model_module_version": "1.5.0",
            "_model_name": "HTMLModel",
            "_view_count": null,
            "_view_module": "@jupyter-widgets/controls",
            "_view_module_version": "1.5.0",
            "_view_name": "HTMLView",
            "description": "",
            "description_tooltip": null,
            "layout": "IPY_MODEL_4e10b1eb185c41868bb8194c0d702640",
            "placeholder": "​",
            "style": "IPY_MODEL_3eca42a325d549aaabb547acfb15bded",
            "value": "tokenizer_config.json: 100%"
          }
        },
        "d465c696c09a4b90bc7ad26e4dd3814d": {
          "model_module": "@jupyter-widgets/controls",
          "model_name": "FloatProgressModel",
          "model_module_version": "1.5.0",
          "state": {
            "_dom_classes": [],
            "_model_module": "@jupyter-widgets/controls",
            "_model_module_version": "1.5.0",
            "_model_name": "FloatProgressModel",
            "_view_count": null,
            "_view_module": "@jupyter-widgets/controls",
            "_view_module_version": "1.5.0",
            "_view_name": "ProgressView",
            "bar_style": "success",
            "description": "",
            "description_tooltip": null,
            "layout": "IPY_MODEL_b466b11140c246308a5f8198593fb458",
            "max": 26,
            "min": 0,
            "orientation": "horizontal",
            "style": "IPY_MODEL_e246cd28935049338fb6af6eff6336de",
            "value": 26
          }
        },
        "6bc72845d7b844a5b21763f1c8d18907": {
          "model_module": "@jupyter-widgets/controls",
          "model_name": "HTMLModel",
          "model_module_version": "1.5.0",
          "state": {
            "_dom_classes": [],
            "_model_module": "@jupyter-widgets/controls",
            "_model_module_version": "1.5.0",
            "_model_name": "HTMLModel",
            "_view_count": null,
            "_view_module": "@jupyter-widgets/controls",
            "_view_module_version": "1.5.0",
            "_view_name": "HTMLView",
            "description": "",
            "description_tooltip": null,
            "layout": "IPY_MODEL_44fc6c7cb4fa40fbbc9a2d5d2c7bdc5d",
            "placeholder": "​",
            "style": "IPY_MODEL_b8c5c19ae39e44c0b9c9e614e94af242",
            "value": " 26.0/26.0 [00:00&lt;00:00, 934B/s]"
          }
        },
        "70d3e7e49de7460dbb62c3494026a7de": {
          "model_module": "@jupyter-widgets/base",
          "model_name": "LayoutModel",
          "model_module_version": "1.2.0",
          "state": {
            "_model_module": "@jupyter-widgets/base",
            "_model_module_version": "1.2.0",
            "_model_name": "LayoutModel",
            "_view_count": null,
            "_view_module": "@jupyter-widgets/base",
            "_view_module_version": "1.2.0",
            "_view_name": "LayoutView",
            "align_content": null,
            "align_items": null,
            "align_self": null,
            "border": null,
            "bottom": null,
            "display": null,
            "flex": null,
            "flex_flow": null,
            "grid_area": null,
            "grid_auto_columns": null,
            "grid_auto_flow": null,
            "grid_auto_rows": null,
            "grid_column": null,
            "grid_gap": null,
            "grid_row": null,
            "grid_template_areas": null,
            "grid_template_columns": null,
            "grid_template_rows": null,
            "height": null,
            "justify_content": null,
            "justify_items": null,
            "left": null,
            "margin": null,
            "max_height": null,
            "max_width": null,
            "min_height": null,
            "min_width": null,
            "object_fit": null,
            "object_position": null,
            "order": null,
            "overflow": null,
            "overflow_x": null,
            "overflow_y": null,
            "padding": null,
            "right": null,
            "top": null,
            "visibility": null,
            "width": null
          }
        },
        "4e10b1eb185c41868bb8194c0d702640": {
          "model_module": "@jupyter-widgets/base",
          "model_name": "LayoutModel",
          "model_module_version": "1.2.0",
          "state": {
            "_model_module": "@jupyter-widgets/base",
            "_model_module_version": "1.2.0",
            "_model_name": "LayoutModel",
            "_view_count": null,
            "_view_module": "@jupyter-widgets/base",
            "_view_module_version": "1.2.0",
            "_view_name": "LayoutView",
            "align_content": null,
            "align_items": null,
            "align_self": null,
            "border": null,
            "bottom": null,
            "display": null,
            "flex": null,
            "flex_flow": null,
            "grid_area": null,
            "grid_auto_columns": null,
            "grid_auto_flow": null,
            "grid_auto_rows": null,
            "grid_column": null,
            "grid_gap": null,
            "grid_row": null,
            "grid_template_areas": null,
            "grid_template_columns": null,
            "grid_template_rows": null,
            "height": null,
            "justify_content": null,
            "justify_items": null,
            "left": null,
            "margin": null,
            "max_height": null,
            "max_width": null,
            "min_height": null,
            "min_width": null,
            "object_fit": null,
            "object_position": null,
            "order": null,
            "overflow": null,
            "overflow_x": null,
            "overflow_y": null,
            "padding": null,
            "right": null,
            "top": null,
            "visibility": null,
            "width": null
          }
        },
        "3eca42a325d549aaabb547acfb15bded": {
          "model_module": "@jupyter-widgets/controls",
          "model_name": "DescriptionStyleModel",
          "model_module_version": "1.5.0",
          "state": {
            "_model_module": "@jupyter-widgets/controls",
            "_model_module_version": "1.5.0",
            "_model_name": "DescriptionStyleModel",
            "_view_count": null,
            "_view_module": "@jupyter-widgets/base",
            "_view_module_version": "1.2.0",
            "_view_name": "StyleView",
            "description_width": ""
          }
        },
        "b466b11140c246308a5f8198593fb458": {
          "model_module": "@jupyter-widgets/base",
          "model_name": "LayoutModel",
          "model_module_version": "1.2.0",
          "state": {
            "_model_module": "@jupyter-widgets/base",
            "_model_module_version": "1.2.0",
            "_model_name": "LayoutModel",
            "_view_count": null,
            "_view_module": "@jupyter-widgets/base",
            "_view_module_version": "1.2.0",
            "_view_name": "LayoutView",
            "align_content": null,
            "align_items": null,
            "align_self": null,
            "border": null,
            "bottom": null,
            "display": null,
            "flex": null,
            "flex_flow": null,
            "grid_area": null,
            "grid_auto_columns": null,
            "grid_auto_flow": null,
            "grid_auto_rows": null,
            "grid_column": null,
            "grid_gap": null,
            "grid_row": null,
            "grid_template_areas": null,
            "grid_template_columns": null,
            "grid_template_rows": null,
            "height": null,
            "justify_content": null,
            "justify_items": null,
            "left": null,
            "margin": null,
            "max_height": null,
            "max_width": null,
            "min_height": null,
            "min_width": null,
            "object_fit": null,
            "object_position": null,
            "order": null,
            "overflow": null,
            "overflow_x": null,
            "overflow_y": null,
            "padding": null,
            "right": null,
            "top": null,
            "visibility": null,
            "width": null
          }
        },
        "e246cd28935049338fb6af6eff6336de": {
          "model_module": "@jupyter-widgets/controls",
          "model_name": "ProgressStyleModel",
          "model_module_version": "1.5.0",
          "state": {
            "_model_module": "@jupyter-widgets/controls",
            "_model_module_version": "1.5.0",
            "_model_name": "ProgressStyleModel",
            "_view_count": null,
            "_view_module": "@jupyter-widgets/base",
            "_view_module_version": "1.2.0",
            "_view_name": "StyleView",
            "bar_color": null,
            "description_width": ""
          }
        },
        "44fc6c7cb4fa40fbbc9a2d5d2c7bdc5d": {
          "model_module": "@jupyter-widgets/base",
          "model_name": "LayoutModel",
          "model_module_version": "1.2.0",
          "state": {
            "_model_module": "@jupyter-widgets/base",
            "_model_module_version": "1.2.0",
            "_model_name": "LayoutModel",
            "_view_count": null,
            "_view_module": "@jupyter-widgets/base",
            "_view_module_version": "1.2.0",
            "_view_name": "LayoutView",
            "align_content": null,
            "align_items": null,
            "align_self": null,
            "border": null,
            "bottom": null,
            "display": null,
            "flex": null,
            "flex_flow": null,
            "grid_area": null,
            "grid_auto_columns": null,
            "grid_auto_flow": null,
            "grid_auto_rows": null,
            "grid_column": null,
            "grid_gap": null,
            "grid_row": null,
            "grid_template_areas": null,
            "grid_template_columns": null,
            "grid_template_rows": null,
            "height": null,
            "justify_content": null,
            "justify_items": null,
            "left": null,
            "margin": null,
            "max_height": null,
            "max_width": null,
            "min_height": null,
            "min_width": null,
            "object_fit": null,
            "object_position": null,
            "order": null,
            "overflow": null,
            "overflow_x": null,
            "overflow_y": null,
            "padding": null,
            "right": null,
            "top": null,
            "visibility": null,
            "width": null
          }
        },
        "b8c5c19ae39e44c0b9c9e614e94af242": {
          "model_module": "@jupyter-widgets/controls",
          "model_name": "DescriptionStyleModel",
          "model_module_version": "1.5.0",
          "state": {
            "_model_module": "@jupyter-widgets/controls",
            "_model_module_version": "1.5.0",
            "_model_name": "DescriptionStyleModel",
            "_view_count": null,
            "_view_module": "@jupyter-widgets/base",
            "_view_module_version": "1.2.0",
            "_view_name": "StyleView",
            "description_width": ""
          }
        },
        "5d5e00d1dd724c5daca01406022197f5": {
          "model_module": "@jupyter-widgets/controls",
          "model_name": "HBoxModel",
          "model_module_version": "1.5.0",
          "state": {
            "_dom_classes": [],
            "_model_module": "@jupyter-widgets/controls",
            "_model_module_version": "1.5.0",
            "_model_name": "HBoxModel",
            "_view_count": null,
            "_view_module": "@jupyter-widgets/controls",
            "_view_module_version": "1.5.0",
            "_view_name": "HBoxView",
            "box_style": "",
            "children": [
              "IPY_MODEL_1717b2462e324d45bb9556284021e4a8",
              "IPY_MODEL_5c894c54370e46e4802e8a8903de3d43",
              "IPY_MODEL_dff82463328742d8965e9c66d6ddb336"
            ],
            "layout": "IPY_MODEL_4e030dd6f9624d6f859e2a6070f3e160"
          }
        },
        "1717b2462e324d45bb9556284021e4a8": {
          "model_module": "@jupyter-widgets/controls",
          "model_name": "HTMLModel",
          "model_module_version": "1.5.0",
          "state": {
            "_dom_classes": [],
            "_model_module": "@jupyter-widgets/controls",
            "_model_module_version": "1.5.0",
            "_model_name": "HTMLModel",
            "_view_count": null,
            "_view_module": "@jupyter-widgets/controls",
            "_view_module_version": "1.5.0",
            "_view_name": "HTMLView",
            "description": "",
            "description_tooltip": null,
            "layout": "IPY_MODEL_e14bb38123da4c92848150ae2f23ffd9",
            "placeholder": "​",
            "style": "IPY_MODEL_45533dfe585e48f3a7a27cf23a70f111",
            "value": "config.json: 100%"
          }
        },
        "5c894c54370e46e4802e8a8903de3d43": {
          "model_module": "@jupyter-widgets/controls",
          "model_name": "FloatProgressModel",
          "model_module_version": "1.5.0",
          "state": {
            "_dom_classes": [],
            "_model_module": "@jupyter-widgets/controls",
            "_model_module_version": "1.5.0",
            "_model_name": "FloatProgressModel",
            "_view_count": null,
            "_view_module": "@jupyter-widgets/controls",
            "_view_module_version": "1.5.0",
            "_view_name": "ProgressView",
            "bar_style": "success",
            "description": "",
            "description_tooltip": null,
            "layout": "IPY_MODEL_13884867caf04fa1be4e02809bb8cfd4",
            "max": 1628,
            "min": 0,
            "orientation": "horizontal",
            "style": "IPY_MODEL_e47eceadc5b5438790eb883bf5cb9fad",
            "value": 1628
          }
        },
        "dff82463328742d8965e9c66d6ddb336": {
          "model_module": "@jupyter-widgets/controls",
          "model_name": "HTMLModel",
          "model_module_version": "1.5.0",
          "state": {
            "_dom_classes": [],
            "_model_module": "@jupyter-widgets/controls",
            "_model_module_version": "1.5.0",
            "_model_name": "HTMLModel",
            "_view_count": null,
            "_view_module": "@jupyter-widgets/controls",
            "_view_module_version": "1.5.0",
            "_view_name": "HTMLView",
            "description": "",
            "description_tooltip": null,
            "layout": "IPY_MODEL_daa48e344bbb45e982fff2704d689599",
            "placeholder": "​",
            "style": "IPY_MODEL_61e21ab50a92451bba8ad5a8a44acd81",
            "value": " 1.63k/1.63k [00:00&lt;00:00, 38.5kB/s]"
          }
        },
        "4e030dd6f9624d6f859e2a6070f3e160": {
          "model_module": "@jupyter-widgets/base",
          "model_name": "LayoutModel",
          "model_module_version": "1.2.0",
          "state": {
            "_model_module": "@jupyter-widgets/base",
            "_model_module_version": "1.2.0",
            "_model_name": "LayoutModel",
            "_view_count": null,
            "_view_module": "@jupyter-widgets/base",
            "_view_module_version": "1.2.0",
            "_view_name": "LayoutView",
            "align_content": null,
            "align_items": null,
            "align_self": null,
            "border": null,
            "bottom": null,
            "display": null,
            "flex": null,
            "flex_flow": null,
            "grid_area": null,
            "grid_auto_columns": null,
            "grid_auto_flow": null,
            "grid_auto_rows": null,
            "grid_column": null,
            "grid_gap": null,
            "grid_row": null,
            "grid_template_areas": null,
            "grid_template_columns": null,
            "grid_template_rows": null,
            "height": null,
            "justify_content": null,
            "justify_items": null,
            "left": null,
            "margin": null,
            "max_height": null,
            "max_width": null,
            "min_height": null,
            "min_width": null,
            "object_fit": null,
            "object_position": null,
            "order": null,
            "overflow": null,
            "overflow_x": null,
            "overflow_y": null,
            "padding": null,
            "right": null,
            "top": null,
            "visibility": null,
            "width": null
          }
        },
        "e14bb38123da4c92848150ae2f23ffd9": {
          "model_module": "@jupyter-widgets/base",
          "model_name": "LayoutModel",
          "model_module_version": "1.2.0",
          "state": {
            "_model_module": "@jupyter-widgets/base",
            "_model_module_version": "1.2.0",
            "_model_name": "LayoutModel",
            "_view_count": null,
            "_view_module": "@jupyter-widgets/base",
            "_view_module_version": "1.2.0",
            "_view_name": "LayoutView",
            "align_content": null,
            "align_items": null,
            "align_self": null,
            "border": null,
            "bottom": null,
            "display": null,
            "flex": null,
            "flex_flow": null,
            "grid_area": null,
            "grid_auto_columns": null,
            "grid_auto_flow": null,
            "grid_auto_rows": null,
            "grid_column": null,
            "grid_gap": null,
            "grid_row": null,
            "grid_template_areas": null,
            "grid_template_columns": null,
            "grid_template_rows": null,
            "height": null,
            "justify_content": null,
            "justify_items": null,
            "left": null,
            "margin": null,
            "max_height": null,
            "max_width": null,
            "min_height": null,
            "min_width": null,
            "object_fit": null,
            "object_position": null,
            "order": null,
            "overflow": null,
            "overflow_x": null,
            "overflow_y": null,
            "padding": null,
            "right": null,
            "top": null,
            "visibility": null,
            "width": null
          }
        },
        "45533dfe585e48f3a7a27cf23a70f111": {
          "model_module": "@jupyter-widgets/controls",
          "model_name": "DescriptionStyleModel",
          "model_module_version": "1.5.0",
          "state": {
            "_model_module": "@jupyter-widgets/controls",
            "_model_module_version": "1.5.0",
            "_model_name": "DescriptionStyleModel",
            "_view_count": null,
            "_view_module": "@jupyter-widgets/base",
            "_view_module_version": "1.2.0",
            "_view_name": "StyleView",
            "description_width": ""
          }
        },
        "13884867caf04fa1be4e02809bb8cfd4": {
          "model_module": "@jupyter-widgets/base",
          "model_name": "LayoutModel",
          "model_module_version": "1.2.0",
          "state": {
            "_model_module": "@jupyter-widgets/base",
            "_model_module_version": "1.2.0",
            "_model_name": "LayoutModel",
            "_view_count": null,
            "_view_module": "@jupyter-widgets/base",
            "_view_module_version": "1.2.0",
            "_view_name": "LayoutView",
            "align_content": null,
            "align_items": null,
            "align_self": null,
            "border": null,
            "bottom": null,
            "display": null,
            "flex": null,
            "flex_flow": null,
            "grid_area": null,
            "grid_auto_columns": null,
            "grid_auto_flow": null,
            "grid_auto_rows": null,
            "grid_column": null,
            "grid_gap": null,
            "grid_row": null,
            "grid_template_areas": null,
            "grid_template_columns": null,
            "grid_template_rows": null,
            "height": null,
            "justify_content": null,
            "justify_items": null,
            "left": null,
            "margin": null,
            "max_height": null,
            "max_width": null,
            "min_height": null,
            "min_width": null,
            "object_fit": null,
            "object_position": null,
            "order": null,
            "overflow": null,
            "overflow_x": null,
            "overflow_y": null,
            "padding": null,
            "right": null,
            "top": null,
            "visibility": null,
            "width": null
          }
        },
        "e47eceadc5b5438790eb883bf5cb9fad": {
          "model_module": "@jupyter-widgets/controls",
          "model_name": "ProgressStyleModel",
          "model_module_version": "1.5.0",
          "state": {
            "_model_module": "@jupyter-widgets/controls",
            "_model_module_version": "1.5.0",
            "_model_name": "ProgressStyleModel",
            "_view_count": null,
            "_view_module": "@jupyter-widgets/base",
            "_view_module_version": "1.2.0",
            "_view_name": "StyleView",
            "bar_color": null,
            "description_width": ""
          }
        },
        "daa48e344bbb45e982fff2704d689599": {
          "model_module": "@jupyter-widgets/base",
          "model_name": "LayoutModel",
          "model_module_version": "1.2.0",
          "state": {
            "_model_module": "@jupyter-widgets/base",
            "_model_module_version": "1.2.0",
            "_model_name": "LayoutModel",
            "_view_count": null,
            "_view_module": "@jupyter-widgets/base",
            "_view_module_version": "1.2.0",
            "_view_name": "LayoutView",
            "align_content": null,
            "align_items": null,
            "align_self": null,
            "border": null,
            "bottom": null,
            "display": null,
            "flex": null,
            "flex_flow": null,
            "grid_area": null,
            "grid_auto_columns": null,
            "grid_auto_flow": null,
            "grid_auto_rows": null,
            "grid_column": null,
            "grid_gap": null,
            "grid_row": null,
            "grid_template_areas": null,
            "grid_template_columns": null,
            "grid_template_rows": null,
            "height": null,
            "justify_content": null,
            "justify_items": null,
            "left": null,
            "margin": null,
            "max_height": null,
            "max_width": null,
            "min_height": null,
            "min_width": null,
            "object_fit": null,
            "object_position": null,
            "order": null,
            "overflow": null,
            "overflow_x": null,
            "overflow_y": null,
            "padding": null,
            "right": null,
            "top": null,
            "visibility": null,
            "width": null
          }
        },
        "61e21ab50a92451bba8ad5a8a44acd81": {
          "model_module": "@jupyter-widgets/controls",
          "model_name": "DescriptionStyleModel",
          "model_module_version": "1.5.0",
          "state": {
            "_model_module": "@jupyter-widgets/controls",
            "_model_module_version": "1.5.0",
            "_model_name": "DescriptionStyleModel",
            "_view_count": null,
            "_view_module": "@jupyter-widgets/base",
            "_view_module_version": "1.2.0",
            "_view_name": "StyleView",
            "description_width": ""
          }
        },
        "3ab7e6d48a2f44aa874a959b6869b443": {
          "model_module": "@jupyter-widgets/controls",
          "model_name": "HBoxModel",
          "model_module_version": "1.5.0",
          "state": {
            "_dom_classes": [],
            "_model_module": "@jupyter-widgets/controls",
            "_model_module_version": "1.5.0",
            "_model_name": "HBoxModel",
            "_view_count": null,
            "_view_module": "@jupyter-widgets/controls",
            "_view_module_version": "1.5.0",
            "_view_name": "HBoxView",
            "box_style": "",
            "children": [
              "IPY_MODEL_d8bef74c05504155b9eab350d0698ba4",
              "IPY_MODEL_e85c19dec3d042ddb9bc9c6be3615c8f",
              "IPY_MODEL_616da368c1704985851ad01c232d27ad"
            ],
            "layout": "IPY_MODEL_3038a4c86bd14c8ea6be30169af2d554"
          }
        },
        "d8bef74c05504155b9eab350d0698ba4": {
          "model_module": "@jupyter-widgets/controls",
          "model_name": "HTMLModel",
          "model_module_version": "1.5.0",
          "state": {
            "_dom_classes": [],
            "_model_module": "@jupyter-widgets/controls",
            "_model_module_version": "1.5.0",
            "_model_name": "HTMLModel",
            "_view_count": null,
            "_view_module": "@jupyter-widgets/controls",
            "_view_module_version": "1.5.0",
            "_view_name": "HTMLView",
            "description": "",
            "description_tooltip": null,
            "layout": "IPY_MODEL_24eff8d2905848bb9c0f0704e21c1f1a",
            "placeholder": "​",
            "style": "IPY_MODEL_383b2897bb69427199db027cfcfabd9d",
            "value": "vocab.json: 100%"
          }
        },
        "e85c19dec3d042ddb9bc9c6be3615c8f": {
          "model_module": "@jupyter-widgets/controls",
          "model_name": "FloatProgressModel",
          "model_module_version": "1.5.0",
          "state": {
            "_dom_classes": [],
            "_model_module": "@jupyter-widgets/controls",
            "_model_module_version": "1.5.0",
            "_model_name": "FloatProgressModel",
            "_view_count": null,
            "_view_module": "@jupyter-widgets/controls",
            "_view_module_version": "1.5.0",
            "_view_name": "ProgressView",
            "bar_style": "success",
            "description": "",
            "description_tooltip": null,
            "layout": "IPY_MODEL_c99512bc146a461bbfac11e900a597ee",
            "max": 898822,
            "min": 0,
            "orientation": "horizontal",
            "style": "IPY_MODEL_84186d44d1c34d10a0aea4077e473318",
            "value": 898822
          }
        },
        "616da368c1704985851ad01c232d27ad": {
          "model_module": "@jupyter-widgets/controls",
          "model_name": "HTMLModel",
          "model_module_version": "1.5.0",
          "state": {
            "_dom_classes": [],
            "_model_module": "@jupyter-widgets/controls",
            "_model_module_version": "1.5.0",
            "_model_name": "HTMLModel",
            "_view_count": null,
            "_view_module": "@jupyter-widgets/controls",
            "_view_module_version": "1.5.0",
            "_view_name": "HTMLView",
            "description": "",
            "description_tooltip": null,
            "layout": "IPY_MODEL_f81a2f01ee334ba9ac9ca76e444c4007",
            "placeholder": "​",
            "style": "IPY_MODEL_8421710a002442a8ac8d026d92edbd8d",
            "value": " 899k/899k [00:00&lt;00:00, 3.65MB/s]"
          }
        },
        "3038a4c86bd14c8ea6be30169af2d554": {
          "model_module": "@jupyter-widgets/base",
          "model_name": "LayoutModel",
          "model_module_version": "1.2.0",
          "state": {
            "_model_module": "@jupyter-widgets/base",
            "_model_module_version": "1.2.0",
            "_model_name": "LayoutModel",
            "_view_count": null,
            "_view_module": "@jupyter-widgets/base",
            "_view_module_version": "1.2.0",
            "_view_name": "LayoutView",
            "align_content": null,
            "align_items": null,
            "align_self": null,
            "border": null,
            "bottom": null,
            "display": null,
            "flex": null,
            "flex_flow": null,
            "grid_area": null,
            "grid_auto_columns": null,
            "grid_auto_flow": null,
            "grid_auto_rows": null,
            "grid_column": null,
            "grid_gap": null,
            "grid_row": null,
            "grid_template_areas": null,
            "grid_template_columns": null,
            "grid_template_rows": null,
            "height": null,
            "justify_content": null,
            "justify_items": null,
            "left": null,
            "margin": null,
            "max_height": null,
            "max_width": null,
            "min_height": null,
            "min_width": null,
            "object_fit": null,
            "object_position": null,
            "order": null,
            "overflow": null,
            "overflow_x": null,
            "overflow_y": null,
            "padding": null,
            "right": null,
            "top": null,
            "visibility": null,
            "width": null
          }
        },
        "24eff8d2905848bb9c0f0704e21c1f1a": {
          "model_module": "@jupyter-widgets/base",
          "model_name": "LayoutModel",
          "model_module_version": "1.2.0",
          "state": {
            "_model_module": "@jupyter-widgets/base",
            "_model_module_version": "1.2.0",
            "_model_name": "LayoutModel",
            "_view_count": null,
            "_view_module": "@jupyter-widgets/base",
            "_view_module_version": "1.2.0",
            "_view_name": "LayoutView",
            "align_content": null,
            "align_items": null,
            "align_self": null,
            "border": null,
            "bottom": null,
            "display": null,
            "flex": null,
            "flex_flow": null,
            "grid_area": null,
            "grid_auto_columns": null,
            "grid_auto_flow": null,
            "grid_auto_rows": null,
            "grid_column": null,
            "grid_gap": null,
            "grid_row": null,
            "grid_template_areas": null,
            "grid_template_columns": null,
            "grid_template_rows": null,
            "height": null,
            "justify_content": null,
            "justify_items": null,
            "left": null,
            "margin": null,
            "max_height": null,
            "max_width": null,
            "min_height": null,
            "min_width": null,
            "object_fit": null,
            "object_position": null,
            "order": null,
            "overflow": null,
            "overflow_x": null,
            "overflow_y": null,
            "padding": null,
            "right": null,
            "top": null,
            "visibility": null,
            "width": null
          }
        },
        "383b2897bb69427199db027cfcfabd9d": {
          "model_module": "@jupyter-widgets/controls",
          "model_name": "DescriptionStyleModel",
          "model_module_version": "1.5.0",
          "state": {
            "_model_module": "@jupyter-widgets/controls",
            "_model_module_version": "1.5.0",
            "_model_name": "DescriptionStyleModel",
            "_view_count": null,
            "_view_module": "@jupyter-widgets/base",
            "_view_module_version": "1.2.0",
            "_view_name": "StyleView",
            "description_width": ""
          }
        },
        "c99512bc146a461bbfac11e900a597ee": {
          "model_module": "@jupyter-widgets/base",
          "model_name": "LayoutModel",
          "model_module_version": "1.2.0",
          "state": {
            "_model_module": "@jupyter-widgets/base",
            "_model_module_version": "1.2.0",
            "_model_name": "LayoutModel",
            "_view_count": null,
            "_view_module": "@jupyter-widgets/base",
            "_view_module_version": "1.2.0",
            "_view_name": "LayoutView",
            "align_content": null,
            "align_items": null,
            "align_self": null,
            "border": null,
            "bottom": null,
            "display": null,
            "flex": null,
            "flex_flow": null,
            "grid_area": null,
            "grid_auto_columns": null,
            "grid_auto_flow": null,
            "grid_auto_rows": null,
            "grid_column": null,
            "grid_gap": null,
            "grid_row": null,
            "grid_template_areas": null,
            "grid_template_columns": null,
            "grid_template_rows": null,
            "height": null,
            "justify_content": null,
            "justify_items": null,
            "left": null,
            "margin": null,
            "max_height": null,
            "max_width": null,
            "min_height": null,
            "min_width": null,
            "object_fit": null,
            "object_position": null,
            "order": null,
            "overflow": null,
            "overflow_x": null,
            "overflow_y": null,
            "padding": null,
            "right": null,
            "top": null,
            "visibility": null,
            "width": null
          }
        },
        "84186d44d1c34d10a0aea4077e473318": {
          "model_module": "@jupyter-widgets/controls",
          "model_name": "ProgressStyleModel",
          "model_module_version": "1.5.0",
          "state": {
            "_model_module": "@jupyter-widgets/controls",
            "_model_module_version": "1.5.0",
            "_model_name": "ProgressStyleModel",
            "_view_count": null,
            "_view_module": "@jupyter-widgets/base",
            "_view_module_version": "1.2.0",
            "_view_name": "StyleView",
            "bar_color": null,
            "description_width": ""
          }
        },
        "f81a2f01ee334ba9ac9ca76e444c4007": {
          "model_module": "@jupyter-widgets/base",
          "model_name": "LayoutModel",
          "model_module_version": "1.2.0",
          "state": {
            "_model_module": "@jupyter-widgets/base",
            "_model_module_version": "1.2.0",
            "_model_name": "LayoutModel",
            "_view_count": null,
            "_view_module": "@jupyter-widgets/base",
            "_view_module_version": "1.2.0",
            "_view_name": "LayoutView",
            "align_content": null,
            "align_items": null,
            "align_self": null,
            "border": null,
            "bottom": null,
            "display": null,
            "flex": null,
            "flex_flow": null,
            "grid_area": null,
            "grid_auto_columns": null,
            "grid_auto_flow": null,
            "grid_auto_rows": null,
            "grid_column": null,
            "grid_gap": null,
            "grid_row": null,
            "grid_template_areas": null,
            "grid_template_columns": null,
            "grid_template_rows": null,
            "height": null,
            "justify_content": null,
            "justify_items": null,
            "left": null,
            "margin": null,
            "max_height": null,
            "max_width": null,
            "min_height": null,
            "min_width": null,
            "object_fit": null,
            "object_position": null,
            "order": null,
            "overflow": null,
            "overflow_x": null,
            "overflow_y": null,
            "padding": null,
            "right": null,
            "top": null,
            "visibility": null,
            "width": null
          }
        },
        "8421710a002442a8ac8d026d92edbd8d": {
          "model_module": "@jupyter-widgets/controls",
          "model_name": "DescriptionStyleModel",
          "model_module_version": "1.5.0",
          "state": {
            "_model_module": "@jupyter-widgets/controls",
            "_model_module_version": "1.5.0",
            "_model_name": "DescriptionStyleModel",
            "_view_count": null,
            "_view_module": "@jupyter-widgets/base",
            "_view_module_version": "1.2.0",
            "_view_name": "StyleView",
            "description_width": ""
          }
        },
        "8b2d0ec0743544a8a59107d9cb52451f": {
          "model_module": "@jupyter-widgets/controls",
          "model_name": "HBoxModel",
          "model_module_version": "1.5.0",
          "state": {
            "_dom_classes": [],
            "_model_module": "@jupyter-widgets/controls",
            "_model_module_version": "1.5.0",
            "_model_name": "HBoxModel",
            "_view_count": null,
            "_view_module": "@jupyter-widgets/controls",
            "_view_module_version": "1.5.0",
            "_view_name": "HBoxView",
            "box_style": "",
            "children": [
              "IPY_MODEL_e6f1a2352e42461c8b5d45a7b479befa",
              "IPY_MODEL_98995c8470a646e09c10d858b9983c0e",
              "IPY_MODEL_530de5a507fd475fa5f197f961818ca7"
            ],
            "layout": "IPY_MODEL_ed0cf6f22bfa4068b49376cc9babcd0a"
          }
        },
        "e6f1a2352e42461c8b5d45a7b479befa": {
          "model_module": "@jupyter-widgets/controls",
          "model_name": "HTMLModel",
          "model_module_version": "1.5.0",
          "state": {
            "_dom_classes": [],
            "_model_module": "@jupyter-widgets/controls",
            "_model_module_version": "1.5.0",
            "_model_name": "HTMLModel",
            "_view_count": null,
            "_view_module": "@jupyter-widgets/controls",
            "_view_module_version": "1.5.0",
            "_view_name": "HTMLView",
            "description": "",
            "description_tooltip": null,
            "layout": "IPY_MODEL_5ebebe73f94d4d3a81bc5fcd23d109ca",
            "placeholder": "​",
            "style": "IPY_MODEL_98bcf847b81744dab392d90558958a81",
            "value": "merges.txt: 100%"
          }
        },
        "98995c8470a646e09c10d858b9983c0e": {
          "model_module": "@jupyter-widgets/controls",
          "model_name": "FloatProgressModel",
          "model_module_version": "1.5.0",
          "state": {
            "_dom_classes": [],
            "_model_module": "@jupyter-widgets/controls",
            "_model_module_version": "1.5.0",
            "_model_name": "FloatProgressModel",
            "_view_count": null,
            "_view_module": "@jupyter-widgets/controls",
            "_view_module_version": "1.5.0",
            "_view_name": "ProgressView",
            "bar_style": "success",
            "description": "",
            "description_tooltip": null,
            "layout": "IPY_MODEL_0ae705d8a0ae4415887d11d2b5c51f4f",
            "max": 456318,
            "min": 0,
            "orientation": "horizontal",
            "style": "IPY_MODEL_e49bd42b1d9f463d8da4f8ee519379b9",
            "value": 456318
          }
        },
        "530de5a507fd475fa5f197f961818ca7": {
          "model_module": "@jupyter-widgets/controls",
          "model_name": "HTMLModel",
          "model_module_version": "1.5.0",
          "state": {
            "_dom_classes": [],
            "_model_module": "@jupyter-widgets/controls",
            "_model_module_version": "1.5.0",
            "_model_name": "HTMLModel",
            "_view_count": null,
            "_view_module": "@jupyter-widgets/controls",
            "_view_module_version": "1.5.0",
            "_view_name": "HTMLView",
            "description": "",
            "description_tooltip": null,
            "layout": "IPY_MODEL_4822ef94c99346c0aec4db81b3165903",
            "placeholder": "​",
            "style": "IPY_MODEL_c0c069422003427fbbae1e21277c2f1d",
            "value": " 456k/456k [00:00&lt;00:00, 9.93MB/s]"
          }
        },
        "ed0cf6f22bfa4068b49376cc9babcd0a": {
          "model_module": "@jupyter-widgets/base",
          "model_name": "LayoutModel",
          "model_module_version": "1.2.0",
          "state": {
            "_model_module": "@jupyter-widgets/base",
            "_model_module_version": "1.2.0",
            "_model_name": "LayoutModel",
            "_view_count": null,
            "_view_module": "@jupyter-widgets/base",
            "_view_module_version": "1.2.0",
            "_view_name": "LayoutView",
            "align_content": null,
            "align_items": null,
            "align_self": null,
            "border": null,
            "bottom": null,
            "display": null,
            "flex": null,
            "flex_flow": null,
            "grid_area": null,
            "grid_auto_columns": null,
            "grid_auto_flow": null,
            "grid_auto_rows": null,
            "grid_column": null,
            "grid_gap": null,
            "grid_row": null,
            "grid_template_areas": null,
            "grid_template_columns": null,
            "grid_template_rows": null,
            "height": null,
            "justify_content": null,
            "justify_items": null,
            "left": null,
            "margin": null,
            "max_height": null,
            "max_width": null,
            "min_height": null,
            "min_width": null,
            "object_fit": null,
            "object_position": null,
            "order": null,
            "overflow": null,
            "overflow_x": null,
            "overflow_y": null,
            "padding": null,
            "right": null,
            "top": null,
            "visibility": null,
            "width": null
          }
        },
        "5ebebe73f94d4d3a81bc5fcd23d109ca": {
          "model_module": "@jupyter-widgets/base",
          "model_name": "LayoutModel",
          "model_module_version": "1.2.0",
          "state": {
            "_model_module": "@jupyter-widgets/base",
            "_model_module_version": "1.2.0",
            "_model_name": "LayoutModel",
            "_view_count": null,
            "_view_module": "@jupyter-widgets/base",
            "_view_module_version": "1.2.0",
            "_view_name": "LayoutView",
            "align_content": null,
            "align_items": null,
            "align_self": null,
            "border": null,
            "bottom": null,
            "display": null,
            "flex": null,
            "flex_flow": null,
            "grid_area": null,
            "grid_auto_columns": null,
            "grid_auto_flow": null,
            "grid_auto_rows": null,
            "grid_column": null,
            "grid_gap": null,
            "grid_row": null,
            "grid_template_areas": null,
            "grid_template_columns": null,
            "grid_template_rows": null,
            "height": null,
            "justify_content": null,
            "justify_items": null,
            "left": null,
            "margin": null,
            "max_height": null,
            "max_width": null,
            "min_height": null,
            "min_width": null,
            "object_fit": null,
            "object_position": null,
            "order": null,
            "overflow": null,
            "overflow_x": null,
            "overflow_y": null,
            "padding": null,
            "right": null,
            "top": null,
            "visibility": null,
            "width": null
          }
        },
        "98bcf847b81744dab392d90558958a81": {
          "model_module": "@jupyter-widgets/controls",
          "model_name": "DescriptionStyleModel",
          "model_module_version": "1.5.0",
          "state": {
            "_model_module": "@jupyter-widgets/controls",
            "_model_module_version": "1.5.0",
            "_model_name": "DescriptionStyleModel",
            "_view_count": null,
            "_view_module": "@jupyter-widgets/base",
            "_view_module_version": "1.2.0",
            "_view_name": "StyleView",
            "description_width": ""
          }
        },
        "0ae705d8a0ae4415887d11d2b5c51f4f": {
          "model_module": "@jupyter-widgets/base",
          "model_name": "LayoutModel",
          "model_module_version": "1.2.0",
          "state": {
            "_model_module": "@jupyter-widgets/base",
            "_model_module_version": "1.2.0",
            "_model_name": "LayoutModel",
            "_view_count": null,
            "_view_module": "@jupyter-widgets/base",
            "_view_module_version": "1.2.0",
            "_view_name": "LayoutView",
            "align_content": null,
            "align_items": null,
            "align_self": null,
            "border": null,
            "bottom": null,
            "display": null,
            "flex": null,
            "flex_flow": null,
            "grid_area": null,
            "grid_auto_columns": null,
            "grid_auto_flow": null,
            "grid_auto_rows": null,
            "grid_column": null,
            "grid_gap": null,
            "grid_row": null,
            "grid_template_areas": null,
            "grid_template_columns": null,
            "grid_template_rows": null,
            "height": null,
            "justify_content": null,
            "justify_items": null,
            "left": null,
            "margin": null,
            "max_height": null,
            "max_width": null,
            "min_height": null,
            "min_width": null,
            "object_fit": null,
            "object_position": null,
            "order": null,
            "overflow": null,
            "overflow_x": null,
            "overflow_y": null,
            "padding": null,
            "right": null,
            "top": null,
            "visibility": null,
            "width": null
          }
        },
        "e49bd42b1d9f463d8da4f8ee519379b9": {
          "model_module": "@jupyter-widgets/controls",
          "model_name": "ProgressStyleModel",
          "model_module_version": "1.5.0",
          "state": {
            "_model_module": "@jupyter-widgets/controls",
            "_model_module_version": "1.5.0",
            "_model_name": "ProgressStyleModel",
            "_view_count": null,
            "_view_module": "@jupyter-widgets/base",
            "_view_module_version": "1.2.0",
            "_view_name": "StyleView",
            "bar_color": null,
            "description_width": ""
          }
        },
        "4822ef94c99346c0aec4db81b3165903": {
          "model_module": "@jupyter-widgets/base",
          "model_name": "LayoutModel",
          "model_module_version": "1.2.0",
          "state": {
            "_model_module": "@jupyter-widgets/base",
            "_model_module_version": "1.2.0",
            "_model_name": "LayoutModel",
            "_view_count": null,
            "_view_module": "@jupyter-widgets/base",
            "_view_module_version": "1.2.0",
            "_view_name": "LayoutView",
            "align_content": null,
            "align_items": null,
            "align_self": null,
            "border": null,
            "bottom": null,
            "display": null,
            "flex": null,
            "flex_flow": null,
            "grid_area": null,
            "grid_auto_columns": null,
            "grid_auto_flow": null,
            "grid_auto_rows": null,
            "grid_column": null,
            "grid_gap": null,
            "grid_row": null,
            "grid_template_areas": null,
            "grid_template_columns": null,
            "grid_template_rows": null,
            "height": null,
            "justify_content": null,
            "justify_items": null,
            "left": null,
            "margin": null,
            "max_height": null,
            "max_width": null,
            "min_height": null,
            "min_width": null,
            "object_fit": null,
            "object_position": null,
            "order": null,
            "overflow": null,
            "overflow_x": null,
            "overflow_y": null,
            "padding": null,
            "right": null,
            "top": null,
            "visibility": null,
            "width": null
          }
        },
        "c0c069422003427fbbae1e21277c2f1d": {
          "model_module": "@jupyter-widgets/controls",
          "model_name": "DescriptionStyleModel",
          "model_module_version": "1.5.0",
          "state": {
            "_model_module": "@jupyter-widgets/controls",
            "_model_module_version": "1.5.0",
            "_model_name": "DescriptionStyleModel",
            "_view_count": null,
            "_view_module": "@jupyter-widgets/base",
            "_view_module_version": "1.2.0",
            "_view_name": "StyleView",
            "description_width": ""
          }
        },
        "03fbc660f3514e348060409c04b6edf6": {
          "model_module": "@jupyter-widgets/controls",
          "model_name": "HBoxModel",
          "model_module_version": "1.5.0",
          "state": {
            "_dom_classes": [],
            "_model_module": "@jupyter-widgets/controls",
            "_model_module_version": "1.5.0",
            "_model_name": "HBoxModel",
            "_view_count": null,
            "_view_module": "@jupyter-widgets/controls",
            "_view_module_version": "1.5.0",
            "_view_name": "HBoxView",
            "box_style": "",
            "children": [
              "IPY_MODEL_32f340ebe42e423f8997b8bad3c7584e",
              "IPY_MODEL_2f55dff4eceb419a885a019faaf16ae5",
              "IPY_MODEL_d580dee7f0004ad687705b5015dbc0c6"
            ],
            "layout": "IPY_MODEL_e10b3bc610944af58fbfe73da166d40c"
          }
        },
        "32f340ebe42e423f8997b8bad3c7584e": {
          "model_module": "@jupyter-widgets/controls",
          "model_name": "HTMLModel",
          "model_module_version": "1.5.0",
          "state": {
            "_dom_classes": [],
            "_model_module": "@jupyter-widgets/controls",
            "_model_module_version": "1.5.0",
            "_model_name": "HTMLModel",
            "_view_count": null,
            "_view_module": "@jupyter-widgets/controls",
            "_view_module_version": "1.5.0",
            "_view_name": "HTMLView",
            "description": "",
            "description_tooltip": null,
            "layout": "IPY_MODEL_b6d4758365644772a03d9a8aed3df201",
            "placeholder": "​",
            "style": "IPY_MODEL_dd26a7490c51444c9b4edcabb053ada0",
            "value": "tokenizer.json: 100%"
          }
        },
        "2f55dff4eceb419a885a019faaf16ae5": {
          "model_module": "@jupyter-widgets/controls",
          "model_name": "FloatProgressModel",
          "model_module_version": "1.5.0",
          "state": {
            "_dom_classes": [],
            "_model_module": "@jupyter-widgets/controls",
            "_model_module_version": "1.5.0",
            "_model_name": "FloatProgressModel",
            "_view_count": null,
            "_view_module": "@jupyter-widgets/controls",
            "_view_module_version": "1.5.0",
            "_view_name": "ProgressView",
            "bar_style": "success",
            "description": "",
            "description_tooltip": null,
            "layout": "IPY_MODEL_c454be57883544b6bf5011cc0946cc83",
            "max": 1355863,
            "min": 0,
            "orientation": "horizontal",
            "style": "IPY_MODEL_c71c5b27d0214cf097758d04f9e2c9ad",
            "value": 1355863
          }
        },
        "d580dee7f0004ad687705b5015dbc0c6": {
          "model_module": "@jupyter-widgets/controls",
          "model_name": "HTMLModel",
          "model_module_version": "1.5.0",
          "state": {
            "_dom_classes": [],
            "_model_module": "@jupyter-widgets/controls",
            "_model_module_version": "1.5.0",
            "_model_name": "HTMLModel",
            "_view_count": null,
            "_view_module": "@jupyter-widgets/controls",
            "_view_module_version": "1.5.0",
            "_view_name": "HTMLView",
            "description": "",
            "description_tooltip": null,
            "layout": "IPY_MODEL_91546d32d3d042e382c203b4da0621ff",
            "placeholder": "​",
            "style": "IPY_MODEL_cbeac183831b4dc99b8e4d48338f94a5",
            "value": " 1.36M/1.36M [00:00&lt;00:00, 4.26MB/s]"
          }
        },
        "e10b3bc610944af58fbfe73da166d40c": {
          "model_module": "@jupyter-widgets/base",
          "model_name": "LayoutModel",
          "model_module_version": "1.2.0",
          "state": {
            "_model_module": "@jupyter-widgets/base",
            "_model_module_version": "1.2.0",
            "_model_name": "LayoutModel",
            "_view_count": null,
            "_view_module": "@jupyter-widgets/base",
            "_view_module_version": "1.2.0",
            "_view_name": "LayoutView",
            "align_content": null,
            "align_items": null,
            "align_self": null,
            "border": null,
            "bottom": null,
            "display": null,
            "flex": null,
            "flex_flow": null,
            "grid_area": null,
            "grid_auto_columns": null,
            "grid_auto_flow": null,
            "grid_auto_rows": null,
            "grid_column": null,
            "grid_gap": null,
            "grid_row": null,
            "grid_template_areas": null,
            "grid_template_columns": null,
            "grid_template_rows": null,
            "height": null,
            "justify_content": null,
            "justify_items": null,
            "left": null,
            "margin": null,
            "max_height": null,
            "max_width": null,
            "min_height": null,
            "min_width": null,
            "object_fit": null,
            "object_position": null,
            "order": null,
            "overflow": null,
            "overflow_x": null,
            "overflow_y": null,
            "padding": null,
            "right": null,
            "top": null,
            "visibility": null,
            "width": null
          }
        },
        "b6d4758365644772a03d9a8aed3df201": {
          "model_module": "@jupyter-widgets/base",
          "model_name": "LayoutModel",
          "model_module_version": "1.2.0",
          "state": {
            "_model_module": "@jupyter-widgets/base",
            "_model_module_version": "1.2.0",
            "_model_name": "LayoutModel",
            "_view_count": null,
            "_view_module": "@jupyter-widgets/base",
            "_view_module_version": "1.2.0",
            "_view_name": "LayoutView",
            "align_content": null,
            "align_items": null,
            "align_self": null,
            "border": null,
            "bottom": null,
            "display": null,
            "flex": null,
            "flex_flow": null,
            "grid_area": null,
            "grid_auto_columns": null,
            "grid_auto_flow": null,
            "grid_auto_rows": null,
            "grid_column": null,
            "grid_gap": null,
            "grid_row": null,
            "grid_template_areas": null,
            "grid_template_columns": null,
            "grid_template_rows": null,
            "height": null,
            "justify_content": null,
            "justify_items": null,
            "left": null,
            "margin": null,
            "max_height": null,
            "max_width": null,
            "min_height": null,
            "min_width": null,
            "object_fit": null,
            "object_position": null,
            "order": null,
            "overflow": null,
            "overflow_x": null,
            "overflow_y": null,
            "padding": null,
            "right": null,
            "top": null,
            "visibility": null,
            "width": null
          }
        },
        "dd26a7490c51444c9b4edcabb053ada0": {
          "model_module": "@jupyter-widgets/controls",
          "model_name": "DescriptionStyleModel",
          "model_module_version": "1.5.0",
          "state": {
            "_model_module": "@jupyter-widgets/controls",
            "_model_module_version": "1.5.0",
            "_model_name": "DescriptionStyleModel",
            "_view_count": null,
            "_view_module": "@jupyter-widgets/base",
            "_view_module_version": "1.2.0",
            "_view_name": "StyleView",
            "description_width": ""
          }
        },
        "c454be57883544b6bf5011cc0946cc83": {
          "model_module": "@jupyter-widgets/base",
          "model_name": "LayoutModel",
          "model_module_version": "1.2.0",
          "state": {
            "_model_module": "@jupyter-widgets/base",
            "_model_module_version": "1.2.0",
            "_model_name": "LayoutModel",
            "_view_count": null,
            "_view_module": "@jupyter-widgets/base",
            "_view_module_version": "1.2.0",
            "_view_name": "LayoutView",
            "align_content": null,
            "align_items": null,
            "align_self": null,
            "border": null,
            "bottom": null,
            "display": null,
            "flex": null,
            "flex_flow": null,
            "grid_area": null,
            "grid_auto_columns": null,
            "grid_auto_flow": null,
            "grid_auto_rows": null,
            "grid_column": null,
            "grid_gap": null,
            "grid_row": null,
            "grid_template_areas": null,
            "grid_template_columns": null,
            "grid_template_rows": null,
            "height": null,
            "justify_content": null,
            "justify_items": null,
            "left": null,
            "margin": null,
            "max_height": null,
            "max_width": null,
            "min_height": null,
            "min_width": null,
            "object_fit": null,
            "object_position": null,
            "order": null,
            "overflow": null,
            "overflow_x": null,
            "overflow_y": null,
            "padding": null,
            "right": null,
            "top": null,
            "visibility": null,
            "width": null
          }
        },
        "c71c5b27d0214cf097758d04f9e2c9ad": {
          "model_module": "@jupyter-widgets/controls",
          "model_name": "ProgressStyleModel",
          "model_module_version": "1.5.0",
          "state": {
            "_model_module": "@jupyter-widgets/controls",
            "_model_module_version": "1.5.0",
            "_model_name": "ProgressStyleModel",
            "_view_count": null,
            "_view_module": "@jupyter-widgets/base",
            "_view_module_version": "1.2.0",
            "_view_name": "StyleView",
            "bar_color": null,
            "description_width": ""
          }
        },
        "91546d32d3d042e382c203b4da0621ff": {
          "model_module": "@jupyter-widgets/base",
          "model_name": "LayoutModel",
          "model_module_version": "1.2.0",
          "state": {
            "_model_module": "@jupyter-widgets/base",
            "_model_module_version": "1.2.0",
            "_model_name": "LayoutModel",
            "_view_count": null,
            "_view_module": "@jupyter-widgets/base",
            "_view_module_version": "1.2.0",
            "_view_name": "LayoutView",
            "align_content": null,
            "align_items": null,
            "align_self": null,
            "border": null,
            "bottom": null,
            "display": null,
            "flex": null,
            "flex_flow": null,
            "grid_area": null,
            "grid_auto_columns": null,
            "grid_auto_flow": null,
            "grid_auto_rows": null,
            "grid_column": null,
            "grid_gap": null,
            "grid_row": null,
            "grid_template_areas": null,
            "grid_template_columns": null,
            "grid_template_rows": null,
            "height": null,
            "justify_content": null,
            "justify_items": null,
            "left": null,
            "margin": null,
            "max_height": null,
            "max_width": null,
            "min_height": null,
            "min_width": null,
            "object_fit": null,
            "object_position": null,
            "order": null,
            "overflow": null,
            "overflow_x": null,
            "overflow_y": null,
            "padding": null,
            "right": null,
            "top": null,
            "visibility": null,
            "width": null
          }
        },
        "cbeac183831b4dc99b8e4d48338f94a5": {
          "model_module": "@jupyter-widgets/controls",
          "model_name": "DescriptionStyleModel",
          "model_module_version": "1.5.0",
          "state": {
            "_model_module": "@jupyter-widgets/controls",
            "_model_module_version": "1.5.0",
            "_model_name": "DescriptionStyleModel",
            "_view_count": null,
            "_view_module": "@jupyter-widgets/base",
            "_view_module_version": "1.2.0",
            "_view_name": "StyleView",
            "description_width": ""
          }
        },
        "33383de753a84a54b6a50f850d60cd97": {
          "model_module": "@jupyter-widgets/controls",
          "model_name": "HBoxModel",
          "model_module_version": "1.5.0",
          "state": {
            "_dom_classes": [],
            "_model_module": "@jupyter-widgets/controls",
            "_model_module_version": "1.5.0",
            "_model_name": "HBoxModel",
            "_view_count": null,
            "_view_module": "@jupyter-widgets/controls",
            "_view_module_version": "1.5.0",
            "_view_name": "HBoxView",
            "box_style": "",
            "children": [
              "IPY_MODEL_b5ebe527fe2c45ff8505dbd825aa750a",
              "IPY_MODEL_4ebf9b799984409281d77b52407e4ccd",
              "IPY_MODEL_331e05d649b14c9ebbf704d1c2ce4fd4"
            ],
            "layout": "IPY_MODEL_90a6659a5d254c4a80344a61b3b3d87a"
          }
        },
        "b5ebe527fe2c45ff8505dbd825aa750a": {
          "model_module": "@jupyter-widgets/controls",
          "model_name": "HTMLModel",
          "model_module_version": "1.5.0",
          "state": {
            "_dom_classes": [],
            "_model_module": "@jupyter-widgets/controls",
            "_model_module_version": "1.5.0",
            "_model_name": "HTMLModel",
            "_view_count": null,
            "_view_module": "@jupyter-widgets/controls",
            "_view_module_version": "1.5.0",
            "_view_name": "HTMLView",
            "description": "",
            "description_tooltip": null,
            "layout": "IPY_MODEL_4123ed0a4e404be0a0a4dd641cec1f3c",
            "placeholder": "​",
            "style": "IPY_MODEL_17db68db855845888464526bf9acf1f1",
            "value": "pytorch_model.bin: 100%"
          }
        },
        "4ebf9b799984409281d77b52407e4ccd": {
          "model_module": "@jupyter-widgets/controls",
          "model_name": "FloatProgressModel",
          "model_module_version": "1.5.0",
          "state": {
            "_dom_classes": [],
            "_model_module": "@jupyter-widgets/controls",
            "_model_module_version": "1.5.0",
            "_model_name": "FloatProgressModel",
            "_view_count": null,
            "_view_module": "@jupyter-widgets/controls",
            "_view_module_version": "1.5.0",
            "_view_name": "ProgressView",
            "bar_style": "success",
            "description": "",
            "description_tooltip": null,
            "layout": "IPY_MODEL_9e79a7ec47034893b92f42834aa15e1c",
            "max": 1018571383,
            "min": 0,
            "orientation": "horizontal",
            "style": "IPY_MODEL_6a7e6a0ed52b4de6886eb0430d3bf403",
            "value": 1018571383
          }
        },
        "331e05d649b14c9ebbf704d1c2ce4fd4": {
          "model_module": "@jupyter-widgets/controls",
          "model_name": "HTMLModel",
          "model_module_version": "1.5.0",
          "state": {
            "_dom_classes": [],
            "_model_module": "@jupyter-widgets/controls",
            "_model_module_version": "1.5.0",
            "_model_name": "HTMLModel",
            "_view_count": null,
            "_view_module": "@jupyter-widgets/controls",
            "_view_module_version": "1.5.0",
            "_view_name": "HTMLView",
            "description": "",
            "description_tooltip": null,
            "layout": "IPY_MODEL_fc7a1305dcac48b681bd9ab3bb85c61d",
            "placeholder": "​",
            "style": "IPY_MODEL_799ccf5c73a24292957d3ee7e604bf97",
            "value": " 1.02G/1.02G [00:12&lt;00:00, 159MB/s]"
          }
        },
        "90a6659a5d254c4a80344a61b3b3d87a": {
          "model_module": "@jupyter-widgets/base",
          "model_name": "LayoutModel",
          "model_module_version": "1.2.0",
          "state": {
            "_model_module": "@jupyter-widgets/base",
            "_model_module_version": "1.2.0",
            "_model_name": "LayoutModel",
            "_view_count": null,
            "_view_module": "@jupyter-widgets/base",
            "_view_module_version": "1.2.0",
            "_view_name": "LayoutView",
            "align_content": null,
            "align_items": null,
            "align_self": null,
            "border": null,
            "bottom": null,
            "display": null,
            "flex": null,
            "flex_flow": null,
            "grid_area": null,
            "grid_auto_columns": null,
            "grid_auto_flow": null,
            "grid_auto_rows": null,
            "grid_column": null,
            "grid_gap": null,
            "grid_row": null,
            "grid_template_areas": null,
            "grid_template_columns": null,
            "grid_template_rows": null,
            "height": null,
            "justify_content": null,
            "justify_items": null,
            "left": null,
            "margin": null,
            "max_height": null,
            "max_width": null,
            "min_height": null,
            "min_width": null,
            "object_fit": null,
            "object_position": null,
            "order": null,
            "overflow": null,
            "overflow_x": null,
            "overflow_y": null,
            "padding": null,
            "right": null,
            "top": null,
            "visibility": null,
            "width": null
          }
        },
        "4123ed0a4e404be0a0a4dd641cec1f3c": {
          "model_module": "@jupyter-widgets/base",
          "model_name": "LayoutModel",
          "model_module_version": "1.2.0",
          "state": {
            "_model_module": "@jupyter-widgets/base",
            "_model_module_version": "1.2.0",
            "_model_name": "LayoutModel",
            "_view_count": null,
            "_view_module": "@jupyter-widgets/base",
            "_view_module_version": "1.2.0",
            "_view_name": "LayoutView",
            "align_content": null,
            "align_items": null,
            "align_self": null,
            "border": null,
            "bottom": null,
            "display": null,
            "flex": null,
            "flex_flow": null,
            "grid_area": null,
            "grid_auto_columns": null,
            "grid_auto_flow": null,
            "grid_auto_rows": null,
            "grid_column": null,
            "grid_gap": null,
            "grid_row": null,
            "grid_template_areas": null,
            "grid_template_columns": null,
            "grid_template_rows": null,
            "height": null,
            "justify_content": null,
            "justify_items": null,
            "left": null,
            "margin": null,
            "max_height": null,
            "max_width": null,
            "min_height": null,
            "min_width": null,
            "object_fit": null,
            "object_position": null,
            "order": null,
            "overflow": null,
            "overflow_x": null,
            "overflow_y": null,
            "padding": null,
            "right": null,
            "top": null,
            "visibility": null,
            "width": null
          }
        },
        "17db68db855845888464526bf9acf1f1": {
          "model_module": "@jupyter-widgets/controls",
          "model_name": "DescriptionStyleModel",
          "model_module_version": "1.5.0",
          "state": {
            "_model_module": "@jupyter-widgets/controls",
            "_model_module_version": "1.5.0",
            "_model_name": "DescriptionStyleModel",
            "_view_count": null,
            "_view_module": "@jupyter-widgets/base",
            "_view_module_version": "1.2.0",
            "_view_name": "StyleView",
            "description_width": ""
          }
        },
        "9e79a7ec47034893b92f42834aa15e1c": {
          "model_module": "@jupyter-widgets/base",
          "model_name": "LayoutModel",
          "model_module_version": "1.2.0",
          "state": {
            "_model_module": "@jupyter-widgets/base",
            "_model_module_version": "1.2.0",
            "_model_name": "LayoutModel",
            "_view_count": null,
            "_view_module": "@jupyter-widgets/base",
            "_view_module_version": "1.2.0",
            "_view_name": "LayoutView",
            "align_content": null,
            "align_items": null,
            "align_self": null,
            "border": null,
            "bottom": null,
            "display": null,
            "flex": null,
            "flex_flow": null,
            "grid_area": null,
            "grid_auto_columns": null,
            "grid_auto_flow": null,
            "grid_auto_rows": null,
            "grid_column": null,
            "grid_gap": null,
            "grid_row": null,
            "grid_template_areas": null,
            "grid_template_columns": null,
            "grid_template_rows": null,
            "height": null,
            "justify_content": null,
            "justify_items": null,
            "left": null,
            "margin": null,
            "max_height": null,
            "max_width": null,
            "min_height": null,
            "min_width": null,
            "object_fit": null,
            "object_position": null,
            "order": null,
            "overflow": null,
            "overflow_x": null,
            "overflow_y": null,
            "padding": null,
            "right": null,
            "top": null,
            "visibility": null,
            "width": null
          }
        },
        "6a7e6a0ed52b4de6886eb0430d3bf403": {
          "model_module": "@jupyter-widgets/controls",
          "model_name": "ProgressStyleModel",
          "model_module_version": "1.5.0",
          "state": {
            "_model_module": "@jupyter-widgets/controls",
            "_model_module_version": "1.5.0",
            "_model_name": "ProgressStyleModel",
            "_view_count": null,
            "_view_module": "@jupyter-widgets/base",
            "_view_module_version": "1.2.0",
            "_view_name": "StyleView",
            "bar_color": null,
            "description_width": ""
          }
        },
        "fc7a1305dcac48b681bd9ab3bb85c61d": {
          "model_module": "@jupyter-widgets/base",
          "model_name": "LayoutModel",
          "model_module_version": "1.2.0",
          "state": {
            "_model_module": "@jupyter-widgets/base",
            "_model_module_version": "1.2.0",
            "_model_name": "LayoutModel",
            "_view_count": null,
            "_view_module": "@jupyter-widgets/base",
            "_view_module_version": "1.2.0",
            "_view_name": "LayoutView",
            "align_content": null,
            "align_items": null,
            "align_self": null,
            "border": null,
            "bottom": null,
            "display": null,
            "flex": null,
            "flex_flow": null,
            "grid_area": null,
            "grid_auto_columns": null,
            "grid_auto_flow": null,
            "grid_auto_rows": null,
            "grid_column": null,
            "grid_gap": null,
            "grid_row": null,
            "grid_template_areas": null,
            "grid_template_columns": null,
            "grid_template_rows": null,
            "height": null,
            "justify_content": null,
            "justify_items": null,
            "left": null,
            "margin": null,
            "max_height": null,
            "max_width": null,
            "min_height": null,
            "min_width": null,
            "object_fit": null,
            "object_position": null,
            "order": null,
            "overflow": null,
            "overflow_x": null,
            "overflow_y": null,
            "padding": null,
            "right": null,
            "top": null,
            "visibility": null,
            "width": null
          }
        },
        "799ccf5c73a24292957d3ee7e604bf97": {
          "model_module": "@jupyter-widgets/controls",
          "model_name": "DescriptionStyleModel",
          "model_module_version": "1.5.0",
          "state": {
            "_model_module": "@jupyter-widgets/controls",
            "_model_module_version": "1.5.0",
            "_model_name": "DescriptionStyleModel",
            "_view_count": null,
            "_view_module": "@jupyter-widgets/base",
            "_view_module_version": "1.2.0",
            "_view_name": "StyleView",
            "description_width": ""
          }
        },
        "f604831b923d4bcd93df90ebffc2de61": {
          "model_module": "@jupyter-widgets/controls",
          "model_name": "HBoxModel",
          "model_module_version": "1.5.0",
          "state": {
            "_dom_classes": [],
            "_model_module": "@jupyter-widgets/controls",
            "_model_module_version": "1.5.0",
            "_model_name": "HBoxModel",
            "_view_count": null,
            "_view_module": "@jupyter-widgets/controls",
            "_view_module_version": "1.5.0",
            "_view_name": "HBoxView",
            "box_style": "",
            "children": [
              "IPY_MODEL_c12aeed457a34bfca01d25382d1d04ab",
              "IPY_MODEL_524ee8d032e442fba2f86cb2e62ed069",
              "IPY_MODEL_3a0035e375d54b7683eb775b863bec49"
            ],
            "layout": "IPY_MODEL_e52ff0101a47400d824d8a0c3d1f45cc"
          }
        },
        "c12aeed457a34bfca01d25382d1d04ab": {
          "model_module": "@jupyter-widgets/controls",
          "model_name": "HTMLModel",
          "model_module_version": "1.5.0",
          "state": {
            "_dom_classes": [],
            "_model_module": "@jupyter-widgets/controls",
            "_model_module_version": "1.5.0",
            "_model_name": "HTMLModel",
            "_view_count": null,
            "_view_module": "@jupyter-widgets/controls",
            "_view_module_version": "1.5.0",
            "_view_name": "HTMLView",
            "description": "",
            "description_tooltip": null,
            "layout": "IPY_MODEL_5bd51aed18cc4eb9bfb6967dfb1ca940",
            "placeholder": "​",
            "style": "IPY_MODEL_e442960eb3384c378305c6c2ab103cd4",
            "value": "Map (num_proc=8): 100%"
          }
        },
        "524ee8d032e442fba2f86cb2e62ed069": {
          "model_module": "@jupyter-widgets/controls",
          "model_name": "FloatProgressModel",
          "model_module_version": "1.5.0",
          "state": {
            "_dom_classes": [],
            "_model_module": "@jupyter-widgets/controls",
            "_model_module_version": "1.5.0",
            "_model_name": "FloatProgressModel",
            "_view_count": null,
            "_view_module": "@jupyter-widgets/controls",
            "_view_module_version": "1.5.0",
            "_view_name": "ProgressView",
            "bar_style": "success",
            "description": "",
            "description_tooltip": null,
            "layout": "IPY_MODEL_50ae37658cba42f2800e93997761fa73",
            "max": 628405,
            "min": 0,
            "orientation": "horizontal",
            "style": "IPY_MODEL_2d84061f5df24f9fb4e7eab160abd1f3",
            "value": 628405
          }
        },
        "3a0035e375d54b7683eb775b863bec49": {
          "model_module": "@jupyter-widgets/controls",
          "model_name": "HTMLModel",
          "model_module_version": "1.5.0",
          "state": {
            "_dom_classes": [],
            "_model_module": "@jupyter-widgets/controls",
            "_model_module_version": "1.5.0",
            "_model_name": "HTMLModel",
            "_view_count": null,
            "_view_module": "@jupyter-widgets/controls",
            "_view_module_version": "1.5.0",
            "_view_name": "HTMLView",
            "description": "",
            "description_tooltip": null,
            "layout": "IPY_MODEL_9059c2050aad4274950c95f6e9a428cb",
            "placeholder": "​",
            "style": "IPY_MODEL_e5fd5d25bdaf488b981499d8b530ff48",
            "value": " 628405/628405 [05:58&lt;00:00, 1323.32 examples/s]"
          }
        },
        "e52ff0101a47400d824d8a0c3d1f45cc": {
          "model_module": "@jupyter-widgets/base",
          "model_name": "LayoutModel",
          "model_module_version": "1.2.0",
          "state": {
            "_model_module": "@jupyter-widgets/base",
            "_model_module_version": "1.2.0",
            "_model_name": "LayoutModel",
            "_view_count": null,
            "_view_module": "@jupyter-widgets/base",
            "_view_module_version": "1.2.0",
            "_view_name": "LayoutView",
            "align_content": null,
            "align_items": null,
            "align_self": null,
            "border": null,
            "bottom": null,
            "display": null,
            "flex": null,
            "flex_flow": null,
            "grid_area": null,
            "grid_auto_columns": null,
            "grid_auto_flow": null,
            "grid_auto_rows": null,
            "grid_column": null,
            "grid_gap": null,
            "grid_row": null,
            "grid_template_areas": null,
            "grid_template_columns": null,
            "grid_template_rows": null,
            "height": null,
            "justify_content": null,
            "justify_items": null,
            "left": null,
            "margin": null,
            "max_height": null,
            "max_width": null,
            "min_height": null,
            "min_width": null,
            "object_fit": null,
            "object_position": null,
            "order": null,
            "overflow": null,
            "overflow_x": null,
            "overflow_y": null,
            "padding": null,
            "right": null,
            "top": null,
            "visibility": null,
            "width": null
          }
        },
        "5bd51aed18cc4eb9bfb6967dfb1ca940": {
          "model_module": "@jupyter-widgets/base",
          "model_name": "LayoutModel",
          "model_module_version": "1.2.0",
          "state": {
            "_model_module": "@jupyter-widgets/base",
            "_model_module_version": "1.2.0",
            "_model_name": "LayoutModel",
            "_view_count": null,
            "_view_module": "@jupyter-widgets/base",
            "_view_module_version": "1.2.0",
            "_view_name": "LayoutView",
            "align_content": null,
            "align_items": null,
            "align_self": null,
            "border": null,
            "bottom": null,
            "display": null,
            "flex": null,
            "flex_flow": null,
            "grid_area": null,
            "grid_auto_columns": null,
            "grid_auto_flow": null,
            "grid_auto_rows": null,
            "grid_column": null,
            "grid_gap": null,
            "grid_row": null,
            "grid_template_areas": null,
            "grid_template_columns": null,
            "grid_template_rows": null,
            "height": null,
            "justify_content": null,
            "justify_items": null,
            "left": null,
            "margin": null,
            "max_height": null,
            "max_width": null,
            "min_height": null,
            "min_width": null,
            "object_fit": null,
            "object_position": null,
            "order": null,
            "overflow": null,
            "overflow_x": null,
            "overflow_y": null,
            "padding": null,
            "right": null,
            "top": null,
            "visibility": null,
            "width": null
          }
        },
        "e442960eb3384c378305c6c2ab103cd4": {
          "model_module": "@jupyter-widgets/controls",
          "model_name": "DescriptionStyleModel",
          "model_module_version": "1.5.0",
          "state": {
            "_model_module": "@jupyter-widgets/controls",
            "_model_module_version": "1.5.0",
            "_model_name": "DescriptionStyleModel",
            "_view_count": null,
            "_view_module": "@jupyter-widgets/base",
            "_view_module_version": "1.2.0",
            "_view_name": "StyleView",
            "description_width": ""
          }
        },
        "50ae37658cba42f2800e93997761fa73": {
          "model_module": "@jupyter-widgets/base",
          "model_name": "LayoutModel",
          "model_module_version": "1.2.0",
          "state": {
            "_model_module": "@jupyter-widgets/base",
            "_model_module_version": "1.2.0",
            "_model_name": "LayoutModel",
            "_view_count": null,
            "_view_module": "@jupyter-widgets/base",
            "_view_module_version": "1.2.0",
            "_view_name": "LayoutView",
            "align_content": null,
            "align_items": null,
            "align_self": null,
            "border": null,
            "bottom": null,
            "display": null,
            "flex": null,
            "flex_flow": null,
            "grid_area": null,
            "grid_auto_columns": null,
            "grid_auto_flow": null,
            "grid_auto_rows": null,
            "grid_column": null,
            "grid_gap": null,
            "grid_row": null,
            "grid_template_areas": null,
            "grid_template_columns": null,
            "grid_template_rows": null,
            "height": null,
            "justify_content": null,
            "justify_items": null,
            "left": null,
            "margin": null,
            "max_height": null,
            "max_width": null,
            "min_height": null,
            "min_width": null,
            "object_fit": null,
            "object_position": null,
            "order": null,
            "overflow": null,
            "overflow_x": null,
            "overflow_y": null,
            "padding": null,
            "right": null,
            "top": null,
            "visibility": null,
            "width": null
          }
        },
        "2d84061f5df24f9fb4e7eab160abd1f3": {
          "model_module": "@jupyter-widgets/controls",
          "model_name": "ProgressStyleModel",
          "model_module_version": "1.5.0",
          "state": {
            "_model_module": "@jupyter-widgets/controls",
            "_model_module_version": "1.5.0",
            "_model_name": "ProgressStyleModel",
            "_view_count": null,
            "_view_module": "@jupyter-widgets/base",
            "_view_module_version": "1.2.0",
            "_view_name": "StyleView",
            "bar_color": null,
            "description_width": ""
          }
        },
        "9059c2050aad4274950c95f6e9a428cb": {
          "model_module": "@jupyter-widgets/base",
          "model_name": "LayoutModel",
          "model_module_version": "1.2.0",
          "state": {
            "_model_module": "@jupyter-widgets/base",
            "_model_module_version": "1.2.0",
            "_model_name": "LayoutModel",
            "_view_count": null,
            "_view_module": "@jupyter-widgets/base",
            "_view_module_version": "1.2.0",
            "_view_name": "LayoutView",
            "align_content": null,
            "align_items": null,
            "align_self": null,
            "border": null,
            "bottom": null,
            "display": null,
            "flex": null,
            "flex_flow": null,
            "grid_area": null,
            "grid_auto_columns": null,
            "grid_auto_flow": null,
            "grid_auto_rows": null,
            "grid_column": null,
            "grid_gap": null,
            "grid_row": null,
            "grid_template_areas": null,
            "grid_template_columns": null,
            "grid_template_rows": null,
            "height": null,
            "justify_content": null,
            "justify_items": null,
            "left": null,
            "margin": null,
            "max_height": null,
            "max_width": null,
            "min_height": null,
            "min_width": null,
            "object_fit": null,
            "object_position": null,
            "order": null,
            "overflow": null,
            "overflow_x": null,
            "overflow_y": null,
            "padding": null,
            "right": null,
            "top": null,
            "visibility": null,
            "width": null
          }
        },
        "e5fd5d25bdaf488b981499d8b530ff48": {
          "model_module": "@jupyter-widgets/controls",
          "model_name": "DescriptionStyleModel",
          "model_module_version": "1.5.0",
          "state": {
            "_model_module": "@jupyter-widgets/controls",
            "_model_module_version": "1.5.0",
            "_model_name": "DescriptionStyleModel",
            "_view_count": null,
            "_view_module": "@jupyter-widgets/base",
            "_view_module_version": "1.2.0",
            "_view_name": "StyleView",
            "description_width": ""
          }
        }
      }
    }
  },
  "nbformat": 4,
  "nbformat_minor": 0
}